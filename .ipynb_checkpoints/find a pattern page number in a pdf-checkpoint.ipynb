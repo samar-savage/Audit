{
 "cells": [
  {
   "cell_type": "code",
   "execution_count": 6,
   "metadata": {},
   "outputs": [
    {
     "name": "stdout",
     "output_type": "stream",
     "text": [
      "Enter_the_text_to_Search_herela formulation de la question et sur les\n"
     ]
    },
    {
     "ename": "NameError",
     "evalue": "name 'page' is not defined",
     "output_type": "error",
     "traceback": [
      "\u001b[1;31m---------------------------------------------------------------------------\u001b[0m",
      "\u001b[1;31mNameError\u001b[0m                                 Traceback (most recent call last)",
      "\u001b[1;32m<ipython-input-6-59d312d4deb9>\u001b[0m in \u001b[0;36m<module>\u001b[1;34m\u001b[0m\n\u001b[0;32m     10\u001b[0m \u001b[1;31m# Enter code here\u001b[0m\u001b[1;33m\u001b[0m\u001b[1;33m\u001b[0m\u001b[1;33m\u001b[0m\u001b[0m\n\u001b[0;32m     11\u001b[0m \u001b[0mString\u001b[0m \u001b[1;33m=\u001b[0m \u001b[0minput\u001b[0m\u001b[1;33m(\u001b[0m\u001b[1;34m\"Enter_the_text_to_Search_here\"\u001b[0m\u001b[1;33m)\u001b[0m\u001b[1;33m\u001b[0m\u001b[1;33m\u001b[0m\u001b[0m\n\u001b[1;32m---> 12\u001b[1;33m \u001b[0mtext_instances\u001b[0m \u001b[1;33m=\u001b[0m \u001b[1;33m[\u001b[0m\u001b[0mpage\u001b[0m\u001b[1;33m.\u001b[0m\u001b[0msearch_for\u001b[0m\u001b[1;33m(\u001b[0m\u001b[0mtext\u001b[0m\u001b[1;33m)\u001b[0m \u001b[1;32mfor\u001b[0m \u001b[0mtext\u001b[0m \u001b[1;32min\u001b[0m \u001b[0mString\u001b[0m\u001b[1;33m]\u001b[0m\u001b[1;33m\u001b[0m\u001b[1;33m\u001b[0m\u001b[0m\n\u001b[0m\u001b[0;32m     13\u001b[0m \u001b[1;33m\u001b[0m\u001b[0m\n\u001b[0;32m     14\u001b[0m \u001b[1;31m# coordinates of each word found in PDF-page\u001b[0m\u001b[1;33m\u001b[0m\u001b[1;33m\u001b[0m\u001b[1;33m\u001b[0m\u001b[0m\n",
      "\u001b[1;32m<ipython-input-6-59d312d4deb9>\u001b[0m in \u001b[0;36m<listcomp>\u001b[1;34m(.0)\u001b[0m\n\u001b[0;32m     10\u001b[0m \u001b[1;31m# Enter code here\u001b[0m\u001b[1;33m\u001b[0m\u001b[1;33m\u001b[0m\u001b[1;33m\u001b[0m\u001b[0m\n\u001b[0;32m     11\u001b[0m \u001b[0mString\u001b[0m \u001b[1;33m=\u001b[0m \u001b[0minput\u001b[0m\u001b[1;33m(\u001b[0m\u001b[1;34m\"Enter_the_text_to_Search_here\"\u001b[0m\u001b[1;33m)\u001b[0m\u001b[1;33m\u001b[0m\u001b[1;33m\u001b[0m\u001b[0m\n\u001b[1;32m---> 12\u001b[1;33m \u001b[0mtext_instances\u001b[0m \u001b[1;33m=\u001b[0m \u001b[1;33m[\u001b[0m\u001b[0mpage\u001b[0m\u001b[1;33m.\u001b[0m\u001b[0msearch_for\u001b[0m\u001b[1;33m(\u001b[0m\u001b[0mtext\u001b[0m\u001b[1;33m)\u001b[0m \u001b[1;32mfor\u001b[0m \u001b[0mtext\u001b[0m \u001b[1;32min\u001b[0m \u001b[0mString\u001b[0m\u001b[1;33m]\u001b[0m\u001b[1;33m\u001b[0m\u001b[1;33m\u001b[0m\u001b[0m\n\u001b[0m\u001b[0;32m     13\u001b[0m \u001b[1;33m\u001b[0m\u001b[0m\n\u001b[0;32m     14\u001b[0m \u001b[1;31m# coordinates of each word found in PDF-page\u001b[0m\u001b[1;33m\u001b[0m\u001b[1;33m\u001b[0m\u001b[1;33m\u001b[0m\u001b[0m\n",
      "\u001b[1;31mNameError\u001b[0m: name 'page' is not defined"
     ]
    }
   ],
   "source": [
    "import PyPDF2\n",
    "import re\n",
    "\n",
    "# Open the pdf file\n",
    "object = PyPDF2.PdfFileReader(r\"C:/Users/Samar/Desktop/5BI4/Stage PFE/NF.pdf\")\n",
    "\n",
    "# Get number of pages\n",
    "NumPages = object.getNumPages()\n",
    "\n",
    "# Enter code here\n",
    "String = input(\"Enter_the_text_to_Search_here\")\n",
    "\n",
    "# Extract text and do the search\n",
    "for i in range(0, NumPages):\n",
    "    PageObj = object.getPage(i)\n",
    "    Text = PageObj.extractText()\n",
    "    if re.search(String,Text):\n",
    "         print(\"Pattern Found on Page: \" + str(i))\n",
    "\n",
    "            "
   ]
  },
  {
   "cell_type": "code",
   "execution_count": 3,
   "metadata": {},
   "outputs": [],
   "source": [
    "doc = fitz.open('C:/Users/Samar/Desktop/5BI4/Stage PFE/These.pdf')"
   ]
  },
  {
   "cell_type": "code",
   "execution_count": 6,
   "metadata": {},
   "outputs": [
    {
     "data": {
      "text/plain": [
       "40"
      ]
     },
     "execution_count": 6,
     "metadata": {},
     "output_type": "execute_result"
    }
   ],
   "source": [
    "doc.pageCount"
   ]
  },
  {
   "cell_type": "code",
   "execution_count": 7,
   "metadata": {},
   "outputs": [
    {
     "data": {
      "text/plain": [
       "{'format': 'PDF 1.7',\n",
       " 'title': '',\n",
       " 'author': '',\n",
       " 'subject': '',\n",
       " 'keywords': '',\n",
       " 'creator': 'Adobe InDesign CS6 (Macintosh)',\n",
       " 'producer': 'Adobe PDF Library 10.0.1',\n",
       " 'creationDate': \"D:20171215125225-05'00'\",\n",
       " 'modDate': \"D:20171215134607-05'00'\",\n",
       " 'trapped': '',\n",
       " 'encryption': None}"
      ]
     },
     "execution_count": 7,
     "metadata": {},
     "output_type": "execute_result"
    }
   ],
   "source": [
    "doc.metadata"
   ]
  },
  {
   "cell_type": "code",
   "execution_count": 11,
   "metadata": {},
   "outputs": [
    {
     "data": {
      "text/plain": [
       "[[1, 'Exemple de calendrier de travail', 11],\n",
       " [1, 'Sous-sections de la méthodologie et composantes à détailler', 19],\n",
       " [1, 'Le contenu des différentes sections d’un article scientifique', 25],\n",
       " [1, 'Introduction', 7],\n",
       " [1, 'Avant de débuter la rédaction', 8],\n",
       " [2, 'Réfléchir à ce que l’on souhaite publier', 8],\n",
       " [2, 'Cibler une revue', 8],\n",
       " [2, 'Définir les étapes et fixer un échéancier', 11],\n",
       " [2, 'Définir l’ordre des auteurs', 12],\n",
       " [1, 'Élaborer un plan de travail', 14],\n",
       " [1, 'Écrire les différentes sections d’un article scientifique', 15],\n",
       " [2, 'Le titre et le résumé', 15],\n",
       " [2, 'L’introduction', 16],\n",
       " [2, 'La recension', 17],\n",
       " [2, 'La méthodologie', 18],\n",
       " [2, 'Les résultats', 21],\n",
       " [2, 'Les figures et les tableaux', 22],\n",
       " [2, 'La discussion', 23],\n",
       " [2, 'La conclusion', 23],\n",
       " [2, 'Les références ', 24],\n",
       " [1, 'Conseils d’écriture', 27],\n",
       " [2, 'Le style d’écriture à adopter', 27],\n",
       " [2,\n",
       "  'Les méthodes de travail qui facilitent l’écriture d’un article scientifique',\n",
       "  28],\n",
       " [2, 'Les trucs et astuces pour faciliter la rédaction ', 29],\n",
       " [1, 'Processus de révision et de soumission', 30],\n",
       " [2, 'La révision par les coauteurs et l’intégration des commentaires', 30],\n",
       " [2, 'L’édition selon le style de la revue', 30],\n",
       " [2, 'Le processus de soumission ', 30],\n",
       " [2, 'Le processus de révision par les pairs', 32],\n",
       " [3, 'Les décisions possibles', 33],\n",
       " [3, 'La version révisée', 34],\n",
       " [1, 'Bibliographie', 37],\n",
       " [1, 'Le choix de la revue', 8],\n",
       " [1, 'Le libre accès', 9],\n",
       " [1,\n",
       "  'Lignes directrices concernant le crédit d’auteur proposées par l’International Committee of Medical Journals Editors (ICMJE)',\n",
       "  12],\n",
       " [1, 'L’ordre des auteurs', 13],\n",
       " [1, 'La rédaction d’un titre', 15],\n",
       " [1, 'Le résumé', 16],\n",
       " [1, 'La rédaction de l’introduction', 17],\n",
       " [1,\n",
       "  'Comment juger de la pertinence et de la crédibilité \\nd’une recherche scientifique\\u2009?',\n",
       "  18],\n",
       " [1, 'Les figures et les tableaux', 22],\n",
       " [1, 'La discussion', 23],\n",
       " [1, 'Choisir les références les plus appropriées', 24],\n",
       " [1, 'Les références', 24],\n",
       " [1, 'L’écriture efficace', 27],\n",
       " [1, 'La lettre à l’éditeur', 31],\n",
       " [1, 'La réponse à l’éditeur', 34],\n",
       " [1, 'Les droits d’auteur', 35]]"
      ]
     },
     "execution_count": 11,
     "metadata": {},
     "output_type": "execute_result"
    }
   ],
   "source": [
    "#table_content\n",
    "doc.getToC()"
   ]
  },
  {
   "cell_type": "code",
   "execution_count": 16,
   "metadata": {},
   "outputs": [],
   "source": [
    "page = doc[40-1] "
   ]
  },
  {
   "cell_type": "code",
   "execution_count": 18,
   "metadata": {},
   "outputs": [
    {
     "ename": "AttributeError",
     "evalue": "'Page' object has no attribute 'get_Links'",
     "output_type": "error",
     "traceback": [
      "\u001b[1;31m---------------------------------------------------------------------------\u001b[0m",
      "\u001b[1;31mAttributeError\u001b[0m                            Traceback (most recent call last)",
      "\u001b[1;32m<ipython-input-18-73e679a2d08d>\u001b[0m in \u001b[0;36m<module>\u001b[1;34m\u001b[0m\n\u001b[1;32m----> 1\u001b[1;33m \u001b[0mlinks\u001b[0m \u001b[1;33m=\u001b[0m \u001b[0mpage\u001b[0m\u001b[1;33m.\u001b[0m\u001b[0mget_Links\u001b[0m\u001b[1;33m(\u001b[0m\u001b[1;33m)\u001b[0m\u001b[1;33m\u001b[0m\u001b[1;33m\u001b[0m\u001b[0m\n\u001b[0m",
      "\u001b[1;31mAttributeError\u001b[0m: 'Page' object has no attribute 'get_Links'"
     ]
    }
   ],
   "source": [
    "links = page.get_Links()"
   ]
  },
  {
   "cell_type": "code",
   "execution_count": null,
   "metadata": {},
   "outputs": [],
   "source": []
  }
 ],
 "metadata": {
  "kernelspec": {
   "display_name": "Python 3",
   "language": "python",
   "name": "python3"
  },
  "language_info": {
   "codemirror_mode": {
    "name": "ipython",
    "version": 3
   },
   "file_extension": ".py",
   "mimetype": "text/x-python",
   "name": "python",
   "nbconvert_exporter": "python",
   "pygments_lexer": "ipython3",
   "version": "3.8.5"
  }
 },
 "nbformat": 4,
 "nbformat_minor": 4
}
