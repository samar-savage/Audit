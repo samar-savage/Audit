{
 "cells": [
  {
   "cell_type": "code",
   "execution_count": 2,
   "metadata": {},
   "outputs": [],
   "source": [
    "from docx import Document"
   ]
  },
  {
   "cell_type": "code",
   "execution_count": 3,
   "metadata": {},
   "outputs": [],
   "source": [
    "# text recognition\n",
    "import cv2\n",
    "import pytesseract\n",
    "import docx2txt\n",
    "import PIL.Image"
   ]
  },
  {
   "cell_type": "code",
   "execution_count": 10,
   "metadata": {},
   "outputs": [],
   "source": [
    "# pytessercat\n",
    "pytesseract.pytesseract.tesseract_cmd = 'C:/Users/Samar/AppData/Local/Programs/Tesseract-OCR/tesseract.exe'"
   ]
  },
  {
   "cell_type": "markdown",
   "metadata": {},
   "source": [
    "# how to get an image based on reasearch and return the image"
   ]
  },
  {
   "cell_type": "code",
   "execution_count": 16,
   "metadata": {},
   "outputs": [],
   "source": [
    "import docx2txt\n",
    "#extract text \n",
    "text = docx2txt.process(r\"C:/Users/Samar/Desktop/5BI4/Stage PFE/essay/Test/Report_Samar_Jberi.docx\",r\"C:/Users/Samar/Desktop/5BI4/Stage PFE/essay/Test/Images\")"
   ]
  },
  {
   "cell_type": "code",
   "execution_count": 19,
   "metadata": {},
   "outputs": [],
   "source": [
    "#page segmentation mode: default , OCR engine mode : default\n",
    "myconfig =r\" --psm 3 --oem 3\""
   ]
  },
  {
   "cell_type": "code",
   "execution_count": 6,
   "metadata": {},
   "outputs": [
    {
     "name": "stdout",
     "output_type": "stream",
     "text": [
      "Business |»! Data\n",
      "understanding |_| understanding\n",
      "\n",
      "~~\n",
      "\n",
      "Data\n",
      "preparation\n",
      "\n",
      "Deployment t |\n",
      "\n",
      "Modeling\n",
      "\n",
      "Evaluation\n",
      "\n",
      "\n",
      "query found\n"
     ]
    }
   ],
   "source": [
    "#just to test\n",
    "text= pytesseract.image_to_string(PIL.Image.open(\"C:/Users/Samar/Desktop/5BI4/Stage PFE/essay/Test/Images/image2.png\"),config = myconfig)\n",
    "print(text)\n",
    "type(text)\n",
    "if \"Data\" in text:\n",
    "    print(\"query found\")"
   ]
  },
  {
   "cell_type": "code",
   "execution_count": 20,
   "metadata": {},
   "outputs": [
    {
     "name": "stdout",
     "output_type": "stream",
     "text": [
      "query found\n",
      "image14.png\n",
      "query found\n",
      "image15.png\n",
      "query found\n",
      "image2.jpg\n",
      "query found\n",
      "image21.png\n",
      "query found\n",
      "image3.jpg\n",
      "query found\n",
      "image4.png\n",
      "query found\n",
      "image5.png\n"
     ]
    }
   ],
   "source": [
    "import os\n",
    "from os import listdir\n",
    " \n",
    "# get the path or directory\n",
    "folder_dir = \"C:/Users/Samar/Desktop/5BI4/Stage PFE/essay/Test/Images\"\n",
    "directory = 'C:/Users/Samar/Desktop/5BI4/Stage PFE/essay/Test'\n",
    "for images in os.listdir(folder_dir):\n",
    " \n",
    "    # check if the image end swith png or jpg or jpeg\n",
    "    if (images.endswith(\".png\") or images.endswith(\".jpg\")\n",
    "        or images.endswith(\".jpeg\")):\n",
    "        # display\n",
    "        text= pytesseract.image_to_string(PIL.Image.open(os.path.join(folder_dir, images)),config = myconfig)\n",
    "        if \"Data\" in text:\n",
    "            print(\"query found\")\n",
    "            print(images)\n",
    "            #print(text)\n",
    "        #print(images)"
   ]
  },
  {
   "cell_type": "code",
   "execution_count": 47,
   "metadata": {},
   "outputs": [
    {
     "ename": "IndentationError",
     "evalue": "expected an indented block (<ipython-input-47-0a5c98fe6475>, line 20)",
     "output_type": "error",
     "traceback": [
      "\u001b[1;36m  File \u001b[1;32m\"<ipython-input-47-0a5c98fe6475>\"\u001b[1;36m, line \u001b[1;32m20\u001b[0m\n\u001b[1;33m    text= pytesseract.image_to_string(PIL.Image.open(os.path.join(r\"C:/Users/Samar/Desktop/5BI4/Stage PFE/essay/Test\", images)),config = myconfig)\u001b[0m\n\u001b[1;37m    ^\u001b[0m\n\u001b[1;31mIndentationError\u001b[0m\u001b[1;31m:\u001b[0m expected an indented block\n"
     ]
    }
   ],
   "source": [
    "# import required module\n",
    "import os\n",
    "import re\n",
    "from docx.enum.text import WD_COLOR_INDEX\n",
    "directory = 'C:/Users/Samar/Desktop/5BI4/Stage PFE/essay/Test'\n",
    "\n",
    "for filename in os.listdir(directory):\n",
    "    if not filename.startswith('~$') or filename.endswith(\".docx\") or filename.endswith(\".doc\"):\n",
    "        f = os.path.join(directory, filename)\n",
    "        print(f)\n",
    "        X = docx2txt.process(f,r\"C:/Users/Samar/Desktop/5BI4/Stage PFE/essay/Test\")\n",
    "\n",
    "        print(f)\n",
    "        \n",
    "pattern = re.compile(input(\"Enter_the_text_to_Search_here\"))\n",
    "for images in os.listdir(r\"C:/Users/Samar/Desktop/5BI4/Stage PFE/essay/Test\"):\n",
    "    # check if the image end swith png or jpg or jpeg\n",
    "        if (images.endswith(\".png\") or images.endswith(\".jpg\") or images.endswith(\".jpeg\")):\n",
    "        # display\n",
    "        text= pytesseract.image_to_string(PIL.Image.open(os.path.join(r\"C:/Users/Samar/Desktop/5BI4/Stage PFE/essay/Test\", images)),config = myconfig)\n",
    "            if pattern.search(text):\n",
    "                print(\"query found\")\n",
    "                print(f)\n",
    "                print(images)"
   ]
  },
  {
   "cell_type": "code",
   "execution_count": 94,
   "metadata": {},
   "outputs": [
    {
     "name": "stdout",
     "output_type": "stream",
     "text": [
      "Enter_the_text_to_Search_herecomment\n"
     ]
    },
    {
     "ename": "PackageNotFoundError",
     "evalue": "Package not found at 'C:/Users/Samar/Desktop/5BI4/Stage PFE/essay/Test\\Rapport_text_mining-.image1.png'",
     "output_type": "error",
     "traceback": [
      "\u001b[1;31m---------------------------------------------------------------------------\u001b[0m",
      "\u001b[1;31mPackageNotFoundError\u001b[0m                      Traceback (most recent call last)",
      "\u001b[1;32m<ipython-input-94-e0cefa299df6>\u001b[0m in \u001b[0;36m<module>\u001b[1;34m\u001b[0m\n\u001b[0;32m     16\u001b[0m     \u001b[1;31m# checking if it is a file\u001b[0m\u001b[1;33m\u001b[0m\u001b[1;33m\u001b[0m\u001b[1;33m\u001b[0m\u001b[0m\n\u001b[0;32m     17\u001b[0m     \u001b[1;32mif\u001b[0m \u001b[0mos\u001b[0m\u001b[1;33m.\u001b[0m\u001b[0mpath\u001b[0m\u001b[1;33m.\u001b[0m\u001b[0misfile\u001b[0m\u001b[1;33m(\u001b[0m\u001b[0mf\u001b[0m\u001b[1;33m)\u001b[0m\u001b[1;33m:\u001b[0m\u001b[1;33m\u001b[0m\u001b[1;33m\u001b[0m\u001b[0m\n\u001b[1;32m---> 18\u001b[1;33m         \u001b[0mdocument\u001b[0m \u001b[1;33m=\u001b[0m \u001b[0mDocument\u001b[0m\u001b[1;33m(\u001b[0m\u001b[0mf\u001b[0m\u001b[1;33m)\u001b[0m\u001b[1;33m\u001b[0m\u001b[1;33m\u001b[0m\u001b[0m\n\u001b[0m\u001b[0;32m     19\u001b[0m         \u001b[0mprint\u001b[0m\u001b[1;33m(\u001b[0m\u001b[0mf\u001b[0m\u001b[1;33m)\u001b[0m\u001b[1;33m\u001b[0m\u001b[1;33m\u001b[0m\u001b[0m\n\u001b[0;32m     20\u001b[0m         \u001b[1;32mimport\u001b[0m \u001b[0mre\u001b[0m\u001b[1;33m\u001b[0m\u001b[1;33m\u001b[0m\u001b[0m\n",
      "\u001b[1;32mC:\\ProgramData\\Anaconda3\\lib\\site-packages\\docx\\api.py\u001b[0m in \u001b[0;36mDocument\u001b[1;34m(docx)\u001b[0m\n\u001b[0;32m     23\u001b[0m     \"\"\"\n\u001b[0;32m     24\u001b[0m     \u001b[0mdocx\u001b[0m \u001b[1;33m=\u001b[0m \u001b[0m_default_docx_path\u001b[0m\u001b[1;33m(\u001b[0m\u001b[1;33m)\u001b[0m \u001b[1;32mif\u001b[0m \u001b[0mdocx\u001b[0m \u001b[1;32mis\u001b[0m \u001b[1;32mNone\u001b[0m \u001b[1;32melse\u001b[0m \u001b[0mdocx\u001b[0m\u001b[1;33m\u001b[0m\u001b[1;33m\u001b[0m\u001b[0m\n\u001b[1;32m---> 25\u001b[1;33m     \u001b[0mdocument_part\u001b[0m \u001b[1;33m=\u001b[0m \u001b[0mPackage\u001b[0m\u001b[1;33m.\u001b[0m\u001b[0mopen\u001b[0m\u001b[1;33m(\u001b[0m\u001b[0mdocx\u001b[0m\u001b[1;33m)\u001b[0m\u001b[1;33m.\u001b[0m\u001b[0mmain_document_part\u001b[0m\u001b[1;33m\u001b[0m\u001b[1;33m\u001b[0m\u001b[0m\n\u001b[0m\u001b[0;32m     26\u001b[0m     \u001b[1;32mif\u001b[0m \u001b[0mdocument_part\u001b[0m\u001b[1;33m.\u001b[0m\u001b[0mcontent_type\u001b[0m \u001b[1;33m!=\u001b[0m \u001b[0mCT\u001b[0m\u001b[1;33m.\u001b[0m\u001b[0mWML_DOCUMENT_MAIN\u001b[0m\u001b[1;33m:\u001b[0m\u001b[1;33m\u001b[0m\u001b[1;33m\u001b[0m\u001b[0m\n\u001b[0;32m     27\u001b[0m         \u001b[0mtmpl\u001b[0m \u001b[1;33m=\u001b[0m \u001b[1;34m\"file '%s' is not a Word file, content type is '%s'\"\u001b[0m\u001b[1;33m\u001b[0m\u001b[1;33m\u001b[0m\u001b[0m\n",
      "\u001b[1;32mC:\\ProgramData\\Anaconda3\\lib\\site-packages\\docx\\opc\\package.py\u001b[0m in \u001b[0;36mopen\u001b[1;34m(cls, pkg_file)\u001b[0m\n\u001b[0;32m    126\u001b[0m         \u001b[1;33m*\u001b[0m\u001b[0mpkg_file\u001b[0m\u001b[1;33m*\u001b[0m\u001b[1;33m.\u001b[0m\u001b[1;33m\u001b[0m\u001b[1;33m\u001b[0m\u001b[0m\n\u001b[0;32m    127\u001b[0m         \"\"\"\n\u001b[1;32m--> 128\u001b[1;33m         \u001b[0mpkg_reader\u001b[0m \u001b[1;33m=\u001b[0m \u001b[0mPackageReader\u001b[0m\u001b[1;33m.\u001b[0m\u001b[0mfrom_file\u001b[0m\u001b[1;33m(\u001b[0m\u001b[0mpkg_file\u001b[0m\u001b[1;33m)\u001b[0m\u001b[1;33m\u001b[0m\u001b[1;33m\u001b[0m\u001b[0m\n\u001b[0m\u001b[0;32m    129\u001b[0m         \u001b[0mpackage\u001b[0m \u001b[1;33m=\u001b[0m \u001b[0mcls\u001b[0m\u001b[1;33m(\u001b[0m\u001b[1;33m)\u001b[0m\u001b[1;33m\u001b[0m\u001b[1;33m\u001b[0m\u001b[0m\n\u001b[0;32m    130\u001b[0m         \u001b[0mUnmarshaller\u001b[0m\u001b[1;33m.\u001b[0m\u001b[0munmarshal\u001b[0m\u001b[1;33m(\u001b[0m\u001b[0mpkg_reader\u001b[0m\u001b[1;33m,\u001b[0m \u001b[0mpackage\u001b[0m\u001b[1;33m,\u001b[0m \u001b[0mPartFactory\u001b[0m\u001b[1;33m)\u001b[0m\u001b[1;33m\u001b[0m\u001b[1;33m\u001b[0m\u001b[0m\n",
      "\u001b[1;32mC:\\ProgramData\\Anaconda3\\lib\\site-packages\\docx\\opc\\pkgreader.py\u001b[0m in \u001b[0;36mfrom_file\u001b[1;34m(pkg_file)\u001b[0m\n\u001b[0;32m     30\u001b[0m         \u001b[0mReturn\u001b[0m \u001b[0ma\u001b[0m \u001b[1;33m|\u001b[0m\u001b[0mPackageReader\u001b[0m\u001b[1;33m|\u001b[0m \u001b[0minstance\u001b[0m \u001b[0mloaded\u001b[0m \u001b[1;32mwith\u001b[0m \u001b[0mcontents\u001b[0m \u001b[0mof\u001b[0m \u001b[1;33m*\u001b[0m\u001b[0mpkg_file\u001b[0m\u001b[1;33m*\u001b[0m\u001b[1;33m.\u001b[0m\u001b[1;33m\u001b[0m\u001b[1;33m\u001b[0m\u001b[0m\n\u001b[0;32m     31\u001b[0m         \"\"\"\n\u001b[1;32m---> 32\u001b[1;33m         \u001b[0mphys_reader\u001b[0m \u001b[1;33m=\u001b[0m \u001b[0mPhysPkgReader\u001b[0m\u001b[1;33m(\u001b[0m\u001b[0mpkg_file\u001b[0m\u001b[1;33m)\u001b[0m\u001b[1;33m\u001b[0m\u001b[1;33m\u001b[0m\u001b[0m\n\u001b[0m\u001b[0;32m     33\u001b[0m         \u001b[0mcontent_types\u001b[0m \u001b[1;33m=\u001b[0m \u001b[0m_ContentTypeMap\u001b[0m\u001b[1;33m.\u001b[0m\u001b[0mfrom_xml\u001b[0m\u001b[1;33m(\u001b[0m\u001b[0mphys_reader\u001b[0m\u001b[1;33m.\u001b[0m\u001b[0mcontent_types_xml\u001b[0m\u001b[1;33m)\u001b[0m\u001b[1;33m\u001b[0m\u001b[1;33m\u001b[0m\u001b[0m\n\u001b[0;32m     34\u001b[0m         \u001b[0mpkg_srels\u001b[0m \u001b[1;33m=\u001b[0m \u001b[0mPackageReader\u001b[0m\u001b[1;33m.\u001b[0m\u001b[0m_srels_for\u001b[0m\u001b[1;33m(\u001b[0m\u001b[0mphys_reader\u001b[0m\u001b[1;33m,\u001b[0m \u001b[0mPACKAGE_URI\u001b[0m\u001b[1;33m)\u001b[0m\u001b[1;33m\u001b[0m\u001b[1;33m\u001b[0m\u001b[0m\n",
      "\u001b[1;32mC:\\ProgramData\\Anaconda3\\lib\\site-packages\\docx\\opc\\phys_pkg.py\u001b[0m in \u001b[0;36m__new__\u001b[1;34m(cls, pkg_file)\u001b[0m\n\u001b[0;32m     28\u001b[0m                 \u001b[0mreader_cls\u001b[0m \u001b[1;33m=\u001b[0m \u001b[0m_ZipPkgReader\u001b[0m\u001b[1;33m\u001b[0m\u001b[1;33m\u001b[0m\u001b[0m\n\u001b[0;32m     29\u001b[0m             \u001b[1;32melse\u001b[0m\u001b[1;33m:\u001b[0m\u001b[1;33m\u001b[0m\u001b[1;33m\u001b[0m\u001b[0m\n\u001b[1;32m---> 30\u001b[1;33m                 raise PackageNotFoundError(\n\u001b[0m\u001b[0;32m     31\u001b[0m                     \u001b[1;34m\"Package not found at '%s'\"\u001b[0m \u001b[1;33m%\u001b[0m \u001b[0mpkg_file\u001b[0m\u001b[1;33m\u001b[0m\u001b[1;33m\u001b[0m\u001b[0m\n\u001b[0;32m     32\u001b[0m                 )\n",
      "\u001b[1;31mPackageNotFoundError\u001b[0m: Package not found at 'C:/Users/Samar/Desktop/5BI4/Stage PFE/essay/Test\\Rapport_text_mining-.image1.png'"
     ]
    }
   ],
   "source": [
    "# import required module\n",
    "import os\n",
    "import re\n",
    "from docx.enum.text import WD_COLOR_INDEX\n",
    "\n",
    "# assign directory\n",
    "directory = 'C:/Users/Samar/Desktop/5BI4/Stage PFE/essay/Test'\n",
    " \n",
    "# iterate over files in\n",
    "# that directory\n",
    "pattern = re.compile(input(\"Enter_the_text_to_Search_here\"))\n",
    "for filename in os.listdir(directory):\n",
    "    if not filename.startswith('~$') or  filename.endswith(\".docx\") or  filename.endswith(\".doc\"):\n",
    "        f = os.path.join(directory, filename)\n",
    "    \n",
    "    # checking if it is a file\n",
    "    if os.path.isfile(f):\n",
    "        document = Document(f)\n",
    "        print(f)\n",
    "        import re\n",
    "        \n",
    "        \n",
    "        for para in document.paragraphs: \n",
    "        \n",
    "        \n",
    "            if pattern.search(para.text):\n",
    "                print(\"Found the paragraph in this file\" ,filename)\n",
    "                print(para.text)\n",
    "                for run in para.runs:\n",
    "                    if para.text in run.text:\n",
    "                        run.font.highlight_color = WD_COLOR_INDEX.YELLOW\n",
    "                        document.save(f) \n",
    "                break\n",
    "       \n",
    "        else:\n",
    "                 print(\"Did not find the paragraph :(\")\n",
    "folder_dir = \"C:/Users/Samar/Desktop/5BI4/Stage PFE/essay/Test\"\n",
    "# iterate over files in\n",
    "# that directory\n",
    "pattern = re.compile(input(\"Enter_the_text_to_Search_here\"))\n",
    "\n",
    "for images in os.listdir(folder_dir):\n",
    " \n",
    "    # check if the image end swith png or jpg or jpeg\n",
    "    if (images.endswith(\".png\") or images.endswith(\".jpg\")\n",
    "        or images.endswith(\".jpeg\")):\n",
    "        # display\n",
    "        text= pytesseract.image_to_string(PIL.Image.open(os.path.join(folder_dir, images)),config = myconfig)\n",
    "        if pattern.search(text):\n",
    "                print(\"query found\")\n",
    "                print(images)\n",
    "    "
   ]
  },
  {
   "cell_type": "markdown",
   "metadata": {},
   "source": [
    "# Alternative solution"
   ]
  },
  {
   "cell_type": "code",
   "execution_count": 51,
   "metadata": {},
   "outputs": [],
   "source": [
    "import docx\n",
    "import os, re\n",
    "\n",
    "#  Third party packages need to be installed \n",
    "# pip install python-docx\n",
    " \n",
    "def get_pictures(word_path, result_path):\n",
    "    \"\"\"\n",
    "     Picture extraction \n",
    "    :param word_path: word route \n",
    "    :return: \n",
    "    \"\"\"\n",
    "    try:\n",
    "        doc = docx.Document(\"C:/Users/Samar/Desktop/5BI4/Stage PFE/essay/Test/Report_Samar_Jberi.docx\")\n",
    "        dict_rel = doc.part._rels\n",
    "        for rel in dict_rel:\n",
    "            rel = dict_rel[rel]\n",
    "            if \"image\" in rel.target_ref:\n",
    "                if not os.path.exists(\"C:/Users/Samar/Desktop/5BI4/Stage PFE/essay/Test/Images\"):\n",
    "                    os.makedirs(\"C:/Users/Samar/Desktop/5BI4/Stage PFE/essay/Test/Images\")\n",
    "                img_name = re.findall(\"/(.*)\", rel.target_ref)[0]\n",
    "                word_name = os.path.splitext(\"C:/Users/Samar/Desktop/5BI4/Stage PFE/essay/Test/Report_Samar_Jberi.docx\")[0]\n",
    "                if os.sep in word_name:\n",
    "                    new_name = word_name.split('\\\\')[-1]\n",
    "                else:\n",
    "                    new_name = word_name.split('/')[-1]\n",
    "                img_name = f'{new_name}-'+'.'+f'{img_name}'\n",
    "                with open(f'{\"C:/Users/Samar/Desktop/5BI4/Stage PFE/essay/Test/Images\"}/{img_name}', \"wb\") as f:\n",
    "                    f.write(rel.target_part.blob)\n",
    "    except:\n",
    "        pass\n",
    "\n",
    "if __name__ == '__main__':\n",
    "\n",
    "    # Get the word Document list , Path customization \n",
    "\n",
    "    os.chdir(\"C:/Users/Samar/Desktop/5BI4/Stage PFE/essay/Test\")\n",
    "    spam=os.listdir(os.getcwd())\n",
    "    for i in spam:\n",
    "        get_pictures(str(i),os.getcwd())"
   ]
  },
  {
   "cell_type": "code",
   "execution_count": 72,
   "metadata": {},
   "outputs": [],
   "source": [
    "import docx\n",
    "import os, re\n",
    "\n",
    "#  Third party packages need to be installed \n",
    "# pip install python-docx\n",
    "directory = 'C:/Users/Samar/Desktop/5BI4/Stage PFE/essay/Test'\n",
    "\n",
    "def get_pictures(word_path, result_path):\n",
    "    \"\"\"\n",
    "     Picture extraction \n",
    "    :param word_path: word route \n",
    "    :return: \n",
    "    \"\"\"\n",
    "    try:\n",
    "        for filename in os.listdir(directory):\n",
    "            if not filename.startswith('~$'):\n",
    "                f = os.path.join(directory, filename)\n",
    "            doc = Document(f)\n",
    "\n",
    "        dict_rel = doc.part._rels\n",
    "        for rel in dict_rel:\n",
    "            rel = dict_rel[rel]\n",
    "            if \"image\" in rel.target_ref:\n",
    "                if not os.path.exists(\"C:/Users/Samar/Desktop/5BI4/Stage PFE/essay/Test/Images\"):\n",
    "                    os.makedirs(\"C:/Users/Samar/Desktop/5BI4/Stage PFE/essay/Test/Images\")\n",
    "                img_name = re.findall(\"/(.*)\", rel.target_ref)[0]\n",
    "                word_name = os.path.splitext(doc)[0]\n",
    "                if os.sep in word_name:\n",
    "                    new_name = word_name.split('\\\\')[-1]\n",
    "                else:\n",
    "                    new_name = word_name.split('/')[-1]\n",
    "                img_name = f'{new_name}-'+'.'+f'{img_name}'\n",
    "                with open(f'{\"C:/Users/Samar/Desktop/5BI4/Stage PFE/essay/Test/Images\"}/{img_name}', \"wb\") as f:\n",
    "                    f.write(rel.target_part.blob)\n",
    "    except:\n",
    "        pass\n",
    "\n",
    "if __name__ == '__main__':\n",
    "\n",
    "    # Get the word Document list , Path customization \n",
    "\n",
    "    os.chdir(\"C:/Users/Samar/Desktop/5BI4/Stage PFE/essay/Test\")\n",
    "    spam=os.listdir(os.getcwd())\n",
    "    for i in spam:\n",
    "        get_pictures(str(i),os.getcwd())"
   ]
  },
  {
   "cell_type": "markdown",
   "metadata": {},
   "source": [
    "# Further More\n"
   ]
  },
  {
   "cell_type": "code",
   "execution_count": 80,
   "metadata": {},
   "outputs": [
    {
     "ename": "NameError",
     "evalue": "name 'tk' is not defined",
     "output_type": "error",
     "traceback": [
      "\u001b[1;31m---------------------------------------------------------------------------\u001b[0m",
      "\u001b[1;31mNameError\u001b[0m                                 Traceback (most recent call last)",
      "\u001b[1;32m<ipython-input-80-d97e88485201>\u001b[0m in \u001b[0;36m<module>\u001b[1;34m\u001b[0m\n\u001b[1;32m----> 1\u001b[1;33m \u001b[0mwindow\u001b[0m \u001b[1;33m=\u001b[0m \u001b[0mtk\u001b[0m\u001b[1;33m.\u001b[0m\u001b[0mTk\u001b[0m\u001b[1;33m(\u001b[0m\u001b[1;33m)\u001b[0m\u001b[1;33m\u001b[0m\u001b[1;33m\u001b[0m\u001b[0m\n\u001b[0m\u001b[0;32m      2\u001b[0m \u001b[0mwindow\u001b[0m\u001b[1;33m.\u001b[0m\u001b[0mtitle\u001b[0m\u001b[1;33m(\u001b[0m\u001b[1;34m\"Working is a man!\"\u001b[0m\u001b[1;33m)\u001b[0m\u001b[1;33m\u001b[0m\u001b[1;33m\u001b[0m\u001b[0m\n\u001b[0;32m      3\u001b[0m \u001b[0mwindow\u001b[0m\u001b[1;33m.\u001b[0m\u001b[0mgeometry\u001b[0m\u001b[1;33m(\u001b[0m\u001b[1;34m\"400x170\"\u001b[0m\u001b[1;33m)\u001b[0m\u001b[1;33m\u001b[0m\u001b[1;33m\u001b[0m\u001b[0m\n\u001b[0;32m      4\u001b[0m \u001b[0mwindow\u001b[0m\u001b[1;33m.\u001b[0m\u001b[0mresizable\u001b[0m\u001b[1;33m(\u001b[0m\u001b[1;36m0\u001b[0m\u001b[1;33m,\u001b[0m\u001b[1;36m0\u001b[0m\u001b[1;33m)\u001b[0m\u001b[1;31m#The settings window cannot be scaled\u001b[0m\u001b[1;33m\u001b[0m\u001b[1;33m\u001b[0m\u001b[0m\n",
      "\u001b[1;31mNameError\u001b[0m: name 'tk' is not defined"
     ]
    }
   ],
   "source": [
    "window = tk.Tk()\n",
    "window.title(\"Working is a man!\")\n",
    "window.geometry(\"400x170\")\n",
    "window.resizable(0,0)#The settings window cannot be scaled"
   ]
  },
  {
   "cell_type": "code",
   "execution_count": 74,
   "metadata": {},
   "outputs": [],
   "source": [
    "import tkinter"
   ]
  },
  {
   "cell_type": "code",
   "execution_count": 77,
   "metadata": {},
   "outputs": [],
   "source": [
    "from tkinter import *"
   ]
  },
  {
   "cell_type": "code",
   "execution_count": 85,
   "metadata": {},
   "outputs": [],
   "source": [
    "import docx\n",
    "import os, re\n",
    "\n",
    "#  Third party packages need to be installed \n",
    "# pip install python-docx\n",
    "result_path= \"C:/Users/Samar/Desktop/5BI4/Stage PFE/essay/Test/Images\"\n",
    "def get_pictures(word_path, result_path):\n",
    "    \"\"\"\n",
    "     Picture extraction \n",
    "    :param word_path: word route \n",
    "    :return: \n",
    "    \"\"\"\n",
    "    try:\n",
    "        doc = docx.Document(word_path)\n",
    "        dict_rel = doc.part._rels\n",
    "        for rel in dict_rel:\n",
    "            rel = dict_rel[rel]\n",
    "            if \"image\" in rel.target_ref:\n",
    "                if not os.path.exists(result_path):\n",
    "                    os.makedirs(result_path)\n",
    "                img_name = re.findall(\"/(.*)\", rel.target_ref)[0]\n",
    "                word_name = os.path.splitext(word_path)[0]\n",
    "                if os.sep in word_name:\n",
    "                    new_name = word_name.split('\\\\')[-1]\n",
    "                else:\n",
    "                    new_name = word_name.split('/')[-1]\n",
    "                img_name = f'{new_name}-'+'.'+f'{img_name}'\n",
    "                with open(f'{result_path}/{img_name}', \"wb\") as f:\n",
    "                    f.write(rel.target_part.blob)\n",
    "    except:\n",
    "        pass\n",
    "\n",
    "if __name__ == '__main__':\n",
    "\n",
    "    # Get the word Document list , Path customization \n",
    "\n",
    "    os.chdir(\"C:/Users/Samar/Desktop/5BI4/Stage PFE/essay/Test\")\n",
    "    spam=os.listdir(os.getcwd())\n",
    "    for i in spam:\n",
    "        get_pictures(str(i),os.getcwd())"
   ]
  },
  {
   "cell_type": "code",
   "execution_count": null,
   "metadata": {},
   "outputs": [],
   "source": [
    "# import required module\n",
    "import os\n",
    "import re\n",
    "from docx.enum.text import WD_COLOR_INDEX\n",
    "\n",
    "# assign directory\n",
    "directory = 'C:/Users/Samar/Desktop/5BI4/Stage PFE/essay/Test'\n",
    " \n",
    "# iterate over files in\n",
    "# that directory\n",
    "pattern = re.compile(input(\"Enter_the_text_to_Search_here\"))\n",
    "for filename in os.listdir(directory):\n",
    "    if not filename.startswith('~$') or  filename.endswith(\".docx\") or  filename.endswith(\".doc\"):\n",
    "        f = os.path.join(directory, filename)\n",
    "    \n",
    "    # checking if it is a file\n",
    "    if os.path.isfile(f):\n",
    "        document = Document(f)\n",
    "        print(f)\n",
    "        import re\n",
    "        \n",
    "        \n",
    "        for para in document.paragraphs: \n",
    "        \n",
    "        \n",
    "            if pattern.search(para.text):\n",
    "                print(\"Found the paragraph in this file\" ,filename)\n",
    "                print(para.text)\n",
    "                for run in para.runs:\n",
    "                    if para.text in run.text:\n",
    "                        run.font.highlight_color = WD_COLOR_INDEX.YELLOW\n",
    "                        document.save(f) \n",
    "                break\n",
    "       \n",
    "        else:\n",
    "                 print(\"Did not find the paragraph :(\")\n",
    "folder_dir = \"C:/Users/Samar/Desktop/5BI4/Stage PFE/essay/Test\"\n",
    "# iterate over files in\n",
    "# that directory\n",
    "pattern = re.compile(input(\"Enter_the_text_to_Search_here\"))\n",
    "\n",
    "for images in os.listdir(folder_dir):\n",
    " \n",
    "    # check if the image end swith png or jpg or jpeg\n",
    "    if (images.endswith(\".png\") or images.endswith(\".jpg\")\n",
    "        or images.endswith(\".jpeg\")):\n",
    "        # display\n",
    "        text= pytesseract.image_to_string(PIL.Image.open(os.path.join(folder_dir, images)),config = myconfig)\n",
    "        if pattern.search(text):\n",
    "                print(\"query found\")\n",
    "                print(images)\n",
    "                for images in os.listdir(folder_dir):\n",
    "                    os.remove(images)"
   ]
  },
  {
   "cell_type": "code",
   "execution_count": null,
   "metadata": {},
   "outputs": [],
   "source": []
  }
 ],
 "metadata": {
  "kernelspec": {
   "display_name": "Python 3",
   "language": "python",
   "name": "python3"
  },
  "language_info": {
   "codemirror_mode": {
    "name": "ipython",
    "version": 3
   },
   "file_extension": ".py",
   "mimetype": "text/x-python",
   "name": "python",
   "nbconvert_exporter": "python",
   "pygments_lexer": "ipython3",
   "version": "3.8.5"
  }
 },
 "nbformat": 4,
 "nbformat_minor": 4
}
