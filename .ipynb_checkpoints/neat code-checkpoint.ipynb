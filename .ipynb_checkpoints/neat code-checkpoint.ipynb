{
 "cells": [
  {
   "cell_type": "code",
   "execution_count": null,
   "metadata": {},
   "outputs": [],
   "source": [
    "!pip install python-docx"
   ]
  },
  {
   "cell_type": "code",
   "execution_count": 2,
   "metadata": {},
   "outputs": [],
   "source": [
    "from docx import Document"
   ]
  },
  {
   "cell_type": "code",
   "execution_count": 3,
   "metadata": {},
   "outputs": [],
   "source": [
    "from docx import Document\n",
    "import os"
   ]
  },
  {
   "cell_type": "code",
   "execution_count": null,
   "metadata": {},
   "outputs": [],
   "source": [
    "import aspose.words as aw\n",
    "\n",
    "# load the PDF file\n",
    "doc = aw.Document(\"C:/Users/Samar/Desktop/5BI4/Stage PFE/essay/Rapport safé.pdf\")\n",
    "\n",
    "# convert PDF to Word DOCX format\n",
    "doc.save(\"C:/Users/Samar/Desktop/5BI4/Stage PFE/essay/pdf-to-word.docx\")"
   ]
  },
  {
   "cell_type": "code",
   "execution_count": 3,
   "metadata": {},
   "outputs": [
    {
     "name": "stdout",
     "output_type": "stream",
     "text": [
      "Enter_the_text_to_Search_hereopportunity to work on the subject entitled\n",
      "C:/Users/Samar/Desktop/5BI4/Stage PFE/essay/Test\\Rapport_text_mining.docx\n",
      "Did not find the paragraph :(\n",
      "C:/Users/Samar/Desktop/5BI4/Stage PFE/essay/Test\\Report_Samar_Jberi.docx\n",
      "Found the paragraph in this file Report_Samar_Jberi.docx\n",
      "Supported by the Private Higher School of Engineering and Technologies Esprit, I was offered the opportunity to work on the subject entitled \"Social Network analysis\" that took place from 06/08/2020 to 30/09/2021, under the supervision and help of Mr. Mohammed Tlili.\n",
      "C:/Users/Samar/Desktop/5BI4/Stage PFE/essay/Test\\Test.docx\n",
      "Did not find the paragraph :(\n"
     ]
    }
   ],
   "source": [
    "# import required module\n",
    "import os\n",
    "import re\n",
    "# assign directory\n",
    "directory = 'C:/Users/Samar/Desktop/5BI4/Stage PFE/essay/Test'\n",
    " \n",
    "# iterate over files in\n",
    "# that directory\n",
    "pattern = re.compile(input(\"Enter_the_text_to_Search_here\"))\n",
    "for filename in os.listdir(directory):\n",
    "    if not filename.startswith('~$'):\n",
    "        f = os.path.join(directory, filename)\n",
    "    \n",
    "    print(f)\n",
    "    # checking if it is a file\n",
    "    if os.path.isfile(f):\n",
    "        document = Document(f)\n",
    "        import re\n",
    "        \n",
    "        \n",
    "        for para in document.paragraphs: \n",
    "        \n",
    "        \n",
    "            if pattern.search(para.text):\n",
    "                print(\"Found the paragraph in this file\" ,filename)\n",
    "                print(para.text)\n",
    "                break\n",
    "       \n",
    "        else:\n",
    "                 print(\"Did not find the paragraph :(\")\n",
    "        \n",
    "    "
   ]
  },
  {
   "cell_type": "code",
   "execution_count": null,
   "metadata": {},
   "outputs": [],
   "source": [
    "#Iterate over paragraphs\n",
    "for paragraph in document.paragraphs:\n",
    "    \n",
    "    #Perform the below logic only for paragraph content which does not have it's native style as \"Heading\"\n",
    "    if \"Heading\" not in paragraph.style.name:\n",
    "\n",
    "        #Start of by initializing an empty string to store bold words inside a run\n",
    "        runboldtext = ''\n",
    "\n",
    "        # Iterate over all runs of the current paragraph and collect all the words which are bold into the varible \"runboldtext\"\n",
    "        for run in paragraph.runs:                        \n",
    "            if run.bold:\n",
    "                runboldtext = runboldtext + run.text\n",
    "\n",
    "        # Now check if the value of \"runboldtext\" matches the entire paragraph text. If it matches, it means all the words in the current paragraph are bold and can be considered as a heading\n",
    "        if runboldtext == str(paragraph.text) and runboldtext != '':\n",
    "            print(\"Heading True for the paragraph: \",runboldtext)\n",
    "            style_of_current_paragraph = 'Heading'"
   ]
  },
  {
   "cell_type": "code",
   "execution_count": null,
   "metadata": {},
   "outputs": [],
   "source": [
    "# import required module\n",
    "import os\n",
    "# assign directory\n",
    "directory = 'C:/Users/Samar/Desktop/5BI4/Stage PFE/essay'\n",
    " \n",
    "# iterate over files in\n",
    "# that directory\n",
    "pattern = re.compile(input(\"Enter_the_text_to_Search_here\"))\n",
    "for filename in os.listdir(directory):\n",
    "    \n",
    "    import aspose.words as aw\n",
    "\n",
    "# load the PDF file\n",
    "\n",
    "\n",
    "# convert PDF to Word DOCX format\n",
    "\n",
    "        \n",
    "    if filename.endswith(\".docx\") and not filename.startswith('~$'):\n",
    "        if filename.endswith(\".pdf\"):\n",
    "            doc = aw.Document(filename)\n",
    "        doc.save(\"f.docx\")\n",
    "        f = os.path.join(directory, filename)\n",
    "       \n",
    "    \n",
    "    print(f)\n",
    "    # checking if it is a file\n",
    "    if os.path.isfile(f):\n",
    "        document = Document(f)\n",
    "        \n",
    "        import re\n",
    "        \n",
    "        \n",
    "        for para in document.paragraphs: \n",
    "        \n",
    "        \n",
    "            if pattern.search(para.text):\n",
    "                print(\"Found the paragraph in this file\" ,filename)\n",
    "                print(para.text)\n",
    "                break\n",
    "       \n",
    "        else:\n",
    "                 print(\"Did not find the paragraph :(\")\n",
    "        \n",
    "    \n",
    "    "
   ]
  },
  {
   "cell_type": "markdown",
   "metadata": {},
   "source": [
    "# how to extract text from an image using Tesseract"
   ]
  },
  {
   "cell_type": "code",
   "execution_count": 1,
   "metadata": {},
   "outputs": [
    {
     "name": "stdout",
     "output_type": "stream",
     "text": [
      "['Emissions mondiales de GES (Gt équiv.-CO,/an)', '', '200', '', '180', '', '160', '', '140+', '', '120', '', '100', '', '7', '[5 Fourchette post-SRES (80 %) / post-SRES (max.)', '— Bi /', '', '“~~', '——', '', 'Post-SRES (min) ~~ — = =——~—.', '', '2000', '', '2020 2040 2060 2080 2100', '']\n"
     ]
    }
   ],
   "source": [
    "# text recognition\n",
    "import cv2\n",
    "import pytesseract\n",
    "\n",
    "# read image\n",
    "img = cv2.imread('C:/Users/Samar/Desktop/5BI4/Stage PFE/essay/figure.png')\n",
    "\n",
    "# configurations\n",
    "config = ('-l eng --oem 1 --psm 3')\n",
    "\n",
    "# pytessercat\n",
    "pytesseract.pytesseract.tesseract_cmd = 'C:/Users/Samar/AppData/Local/Programs/Tesseract-OCR/tesseract.exe'\n",
    "text = pytesseract.image_to_string(img, config=config)\n",
    "\n",
    "# print text\n",
    "text = text.split('\\n')\n",
    "print(text)"
   ]
  },
  {
   "cell_type": "markdown",
   "metadata": {},
   "source": [
    "# convert excel files to a pdf"
   ]
  },
  {
   "cell_type": "code",
   "execution_count": 2,
   "metadata": {},
   "outputs": [
    {
     "name": "stdout",
     "output_type": "stream",
     "text": [
      "Requirement already satisfied: Aspose.Cells in c:\\programdata\\anaconda3\\lib\\site-packages (22.3.0)Note: you may need to restart the kernel to use updated packages.\n"
     ]
    },
    {
     "name": "stderr",
     "output_type": "stream",
     "text": [
      "WARNING: Ignoring invalid distribution -ymupdf (c:\\programdata\\anaconda3\\lib\\site-packages)\n",
      "WARNING: Ignoring invalid distribution -umpy (c:\\programdata\\anaconda3\\lib\\site-packages)\n",
      "WARNING: Ignoring invalid distribution -rllib3 (c:\\programdata\\anaconda3\\lib\\site-packages)\n",
      "WARNING: Ignoring invalid distribution - (c:\\programdata\\anaconda3\\lib\\site-packages)\n",
      "WARNING: Ignoring invalid distribution -ackaging (c:\\programdata\\anaconda3\\lib\\site-packages)\n",
      "WARNING: Ignoring invalid distribution -ymupdf (c:\\programdata\\anaconda3\\lib\\site-packages)\n",
      "WARNING: Ignoring invalid distribution -umpy (c:\\programdata\\anaconda3\\lib\\site-packages)\n",
      "WARNING: Ignoring invalid distribution -rllib3 (c:\\programdata\\anaconda3\\lib\\site-packages)\n",
      "WARNING: Ignoring invalid distribution - (c:\\programdata\\anaconda3\\lib\\site-packages)\n",
      "WARNING: Ignoring invalid distribution -ackaging (c:\\programdata\\anaconda3\\lib\\site-packages)\n",
      "  error: subprocess-exited-with-error\n",
      "  \n",
      "  python setup.py egg_info did not run successfully.\n",
      "  exit code: 1\n",
      "  \n",
      "  [8 lines of output]\n",
      "  Traceback (most recent call last):\n",
      "    File \"<string>\", line 2, in <module>\n",
      "    File \"<pip-setuptools-caller>\", line 34, in <module>\n",
      "    File \"C:\\Users\\Samar\\AppData\\Local\\Temp\\pip-install-ltpu0wnt\\version_7df44b06a2614a93879ead55014a9aab\\setup.py\", line 4, in <module>\n",
      "      from version import __version__\n",
      "    File \"C:\\Users\\Samar\\AppData\\Local\\Temp\\pip-install-ltpu0wnt\\version_7df44b06a2614a93879ead55014a9aab\\version.py\", line 2, in <module>\n",
      "      from itertools import izip_longest\n",
      "  ImportError: cannot import name 'izip_longest' from 'itertools' (unknown location)\n",
      "  [end of output]\n",
      "  \n",
      "  note: This error originates from a subprocess, and is likely not a problem with pip.\n",
      "error: metadata-generation-failed\n",
      "\n",
      "Encountered error while generating package metadata.\n",
      "\n",
      "See above for output.\n",
      "\n",
      "note: This is an issue with the package mentioned above, not pip.\n",
      "hint: See above for details.\n",
      "WARNING: Ignoring invalid distribution -ymupdf (c:\\programdata\\anaconda3\\lib\\site-packages)\n",
      "WARNING: Ignoring invalid distribution -umpy (c:\\programdata\\anaconda3\\lib\\site-packages)\n",
      "WARNING: Ignoring invalid distribution -rllib3 (c:\\programdata\\anaconda3\\lib\\site-packages)\n",
      "WARNING: Ignoring invalid distribution - (c:\\programdata\\anaconda3\\lib\\site-packages)\n",
      "WARNING: Ignoring invalid distribution -ackaging (c:\\programdata\\anaconda3\\lib\\site-packages)\n"
     ]
    },
    {
     "name": "stdout",
     "output_type": "stream",
     "text": [
      "\n",
      "Collecting Version\n",
      "  Using cached version-0.1.1.tar.gz (2.0 kB)\n",
      "  Preparing metadata (setup.py): started\n",
      "  Preparing metadata (setup.py): finished with status 'error'\n"
     ]
    }
   ],
   "source": [
    "pip install Aspose.Cells Version 22.3.0"
   ]
  },
  {
   "cell_type": "code",
   "execution_count": 4,
   "metadata": {},
   "outputs": [],
   "source": [
    "import asposecells\n",
    "from asposecells.api import Workbook, SaveFormat, PdfSaveOptions, PdfCompliance"
   ]
  },
  {
   "cell_type": "code",
   "execution_count": 6,
   "metadata": {},
   "outputs": [],
   "source": [
    "# Load Excel file\n",
    "workbook = Workbook(\"C:/Users/Samar/Desktop/5BI4/Stage PFE/essay/Database.xlsx\")\n",
    "\n",
    "# Create and set PDF options\n",
    "pdfOptions = PdfSaveOptions()\n",
    "pdfOptions.setCompliance(PdfCompliance.PDF_A_1_B)\n",
    "  \n",
    "# Convert Excel to PDF\n",
    "workbook.save(\"C:/Users/Samar/Desktop/5BI4/Stage PFE/essay/Database-to-pdf.pdf\", pdfOptions)"
   ]
  },
  {
   "cell_type": "markdown",
   "metadata": {},
   "source": [
    "# code after integrating the highlight option based on the input"
   ]
  },
  {
   "cell_type": "code",
   "execution_count": 7,
   "metadata": {},
   "outputs": [
    {
     "name": "stdout",
     "output_type": "stream",
     "text": [
      "Enter_the_text_to_Search_hereDuring this internship I had the chance to discover new technologies \n",
      "C:/Users/Samar/Desktop/5BI4/Stage PFE/essay/Test\\Images\n",
      "C:/Users/Samar/Desktop/5BI4/Stage PFE/essay/Test\\Rapport_text_mining.docx\n",
      "Did not find the paragraph :(\n",
      "C:/Users/Samar/Desktop/5BI4/Stage PFE/essay/Test\\Report_Samar_Jberi.docx\n",
      "Found the paragraph in this file Report_Samar_Jberi.docx\n",
      "During this internship I had the chance to discover new technologies and acquire new skills.\n",
      "C:/Users/Samar/Desktop/5BI4/Stage PFE/essay/Test\\Test.docx\n",
      "Did not find the paragraph :(\n"
     ]
    }
   ],
   "source": [
    "# import required module\n",
    "import os\n",
    "import re\n",
    "from docx.enum.text import WD_COLOR_INDEX\n",
    "\n",
    "# assign directory\n",
    "directory = 'C:/Users/Samar/Desktop/5BI4/Stage PFE/essay/Test'\n",
    " \n",
    "# iterate over files in\n",
    "# that directory\n",
    "pattern = re.compile(input(\"Enter_the_text_to_Search_here\"))\n",
    "for filename in os.listdir(directory):\n",
    "    if not filename.startswith('~$'):\n",
    "        f = os.path.join(directory, filename)\n",
    "    \n",
    "    print(f)\n",
    "    # checking if it is a file\n",
    "    if os.path.isfile(f):\n",
    "        document = Document(f)\n",
    "        import re\n",
    "        \n",
    "        \n",
    "        for para in document.paragraphs: \n",
    "        \n",
    "        \n",
    "            if pattern.search(para.text):\n",
    "                print(\"Found the paragraph in this file\" ,filename)\n",
    "                print(para.text)\n",
    "                for run in para.runs:\n",
    "                    if para.text in run.text:\n",
    "                        run.font.highlight_color = WD_COLOR_INDEX.YELLOW\n",
    "                        document.save(f) \n",
    "                break\n",
    "       \n",
    "        else:\n",
    "                 print(\"Did not find the paragraph :(\")\n",
    "    "
   ]
  },
  {
   "cell_type": "code",
   "execution_count": null,
   "metadata": {},
   "outputs": [],
   "source": []
  }
 ],
 "metadata": {
  "kernelspec": {
   "display_name": "Python 3",
   "language": "python",
   "name": "python3"
  },
  "language_info": {
   "codemirror_mode": {
    "name": "ipython",
    "version": 3
   },
   "file_extension": ".py",
   "mimetype": "text/x-python",
   "name": "python",
   "nbconvert_exporter": "python",
   "pygments_lexer": "ipython3",
   "version": "3.8.5"
  }
 },
 "nbformat": 4,
 "nbformat_minor": 4
}
