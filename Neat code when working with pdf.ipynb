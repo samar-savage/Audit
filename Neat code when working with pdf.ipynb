{
 "cells": [
  {
   "cell_type": "code",
   "execution_count": 1,
   "metadata": {},
   "outputs": [],
   "source": [
    "import PyPDF2 \n",
    "import re"
   ]
  },
  {
   "cell_type": "code",
   "execution_count": null,
   "metadata": {},
   "outputs": [],
   "source": [
    "myfile = open('US_declaration.pdf', mode='rb')"
   ]
  },
  {
   "cell_type": "code",
   "execution_count": null,
   "metadata": {},
   "outputs": [],
   "source": [
    "pdf_reader = PyPDF2.PdfFileReader(myfile)"
   ]
  },
  {
   "cell_type": "code",
   "execution_count": null,
   "metadata": {},
   "outputs": [],
   "source": [
    "num_pages = pdf_reader.numPages"
   ]
  },
  {
   "cell_type": "code",
   "execution_count": null,
   "metadata": {},
   "outputs": [],
   "source": [
    "# import required module\n",
    "import os\n",
    "import re\n",
    "import PyPDF2 \n",
    "# assign directory\n",
    "directory = 'C:/Users/Samar/Desktop/5BI4/Stage PFE/UPDATED_NLP_COURSE/00-Python-Text-Basics'\n",
    "# iterate over files in\n",
    "# that directory\n",
    "pattern = re.compile(input(\"Enter_the_text_to_Search_here\"))\n",
    "for filename in os.listdir(directory):\n",
    "    if not filename.startswith('~$') and filename.endswith('.pdf'):\n",
    "        f = os.path.join(directory, filename)\n",
    "        myfile = open(f, mode='rb')\n",
    "        pdf_reader = PyPDF2.PdfFileReader(myfile)\n",
    "        num_pages = pdf_reader.numPages\n",
    "        for i in range(0, num_pages):\n",
    "            page = pdf_reader.getPage(i)\n",
    "          #print(\"this is page \" + str(i)) \n",
    "            Text = page.extractText()\n",
    "            if pattern.search(Text):\n",
    "                print(\"Found the Text on page\",i+1, \"from the file :\", filename)   \n",
    "       "
   ]
  },
  {
   "cell_type": "code",
   "execution_count": null,
   "metadata": {},
   "outputs": [],
   "source": [
    "myfile.close()"
   ]
  }
 ],
 "metadata": {
  "kernelspec": {
   "display_name": "Python 3",
   "language": "python",
   "name": "python3"
  },
  "language_info": {
   "codemirror_mode": {
    "name": "ipython",
    "version": 3
   },
   "file_extension": ".py",
   "mimetype": "text/x-python",
   "name": "python",
   "nbconvert_exporter": "python",
   "pygments_lexer": "ipython3",
   "version": "3.8.5"
  }
 },
 "nbformat": 4,
 "nbformat_minor": 4
}
