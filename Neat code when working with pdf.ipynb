{
 "cells": [
  {
   "cell_type": "code",
   "execution_count": 1,
   "metadata": {},
   "outputs": [],
   "source": [
    "import PyPDF2 \n",
    "import re"
   ]
  },
  {
   "cell_type": "code",
   "execution_count": null,
   "metadata": {},
   "outputs": [],
   "source": [
    "myfile = open('US_declaration.pdf', mode='rb')"
   ]
  },
  {
   "cell_type": "code",
   "execution_count": 2,
   "metadata": {},
   "outputs": [
    {
     "ename": "NameError",
     "evalue": "name 'myfile' is not defined",
     "output_type": "error",
     "traceback": [
      "\u001b[1;31m---------------------------------------------------------------------------\u001b[0m",
      "\u001b[1;31mNameError\u001b[0m                                 Traceback (most recent call last)",
      "\u001b[1;32m<ipython-input-2-b22236004eeb>\u001b[0m in \u001b[0;36m<module>\u001b[1;34m\u001b[0m\n\u001b[1;32m----> 1\u001b[1;33m \u001b[0mpdf_reader\u001b[0m \u001b[1;33m=\u001b[0m \u001b[0mPyPDF2\u001b[0m\u001b[1;33m.\u001b[0m\u001b[0mPdfFileReader\u001b[0m\u001b[1;33m(\u001b[0m\u001b[0mmyfile\u001b[0m\u001b[1;33m)\u001b[0m\u001b[1;33m\u001b[0m\u001b[1;33m\u001b[0m\u001b[0m\n\u001b[0m",
      "\u001b[1;31mNameError\u001b[0m: name 'myfile' is not defined"
     ]
    }
   ],
   "source": [
    "pdf_reader = PyPDF2.PdfFileReader(myfile)"
   ]
  },
  {
   "cell_type": "code",
   "execution_count": null,
   "metadata": {},
   "outputs": [],
   "source": [
    "num_pages = pdf_reader.numPages"
   ]
  },
  {
   "cell_type": "code",
   "execution_count": 35,
   "metadata": {},
   "outputs": [
    {
     "name": "stdout",
     "output_type": "stream",
     "text": [
      "Enter_the_text_to_Search_hereagent Flume qui est un processus JVM\n"
     ]
    }
   ],
   "source": [
    "# import required module\n",
    "import os\n",
    "import re\n",
    "import PyPDF2 \n",
    "# assign directory\n",
    "directory = 'C:/Users/Samar/Desktop/5BI4/Stage PFE/UPDATED_NLP_COURSE/00-Python-Text-Basics'\n",
    "# iterate over files in\n",
    "# that directory\n",
    "pattern = re.compile(input(\"Enter_the_text_to_Search_here\"))\n",
    "for filename in os.listdir(directory):\n",
    "    if not filename.startswith('~$') and filename.endswith('.pdf'):\n",
    "        f = os.path.join(directory, filename)\n",
    "        myfile = open(f, mode='rb')\n",
    "        pdf_reader = PyPDF2.PdfFileReader(myfile)\n",
    "        num_pages = pdf_reader.numPages\n",
    "        for i in range(0, num_pages):\n",
    "            page = pdf_reader.getPage(i)\n",
    "            #print(\"this is page \" + str(i)) \n",
    "            Text = page.extractText()\n",
    "            if pattern.search(Text):\n",
    "                print(Text)\n",
    "               \n",
    "       "
   ]
  },
  {
   "cell_type": "code",
   "execution_count": null,
   "metadata": {},
   "outputs": [],
   "source": [
    "myfile.close()"
   ]
  },
  {
   "cell_type": "code",
   "execution_count": 61,
   "metadata": {},
   "outputs": [
    {
     "name": "stdout",
     "output_type": "stream",
     "text": [
      "['1.1 General', '1.2 Company', '2.1 About', '2.2 Centers', '1.3 Market', '1.4 Problematic', '1.5 Solution', '5.1 Project', '5.2 Project', '5.3 Gantt']\n"
     ]
    }
   ],
   "source": [
    "with open('C:/Users/Samar/Desktop/5BI4/Stage PFE/test.txt',\"r\",encoding='utf-8') as f:\n",
    "    lines = f.readlines()\n",
    "    #print(lines)\n",
    "    p = re.compile(r'\\d+.\\d+\\s+\\w+')\n",
    "    print(p.findall(str(lines)))\n",
    "    "
   ]
  },
  {
   "cell_type": "code",
   "execution_count": 64,
   "metadata": {},
   "outputs": [
    {
     "name": "stdout",
     "output_type": "stream",
     "text": [
      "['I.1 Project Context', 'In this section, we’re going to present the general context of the project. Then, we will', 'provide a description of the company which proposed and supervised it. During the latter,', 'we will introduce its different center of interests. Then, we will present the market study, the', 'problematic and the work methodology in DNA GA. Finally, we’ll give a brief description', 'of the solution’s overview.', 'I.1.1 General Context', 'This project is done as part of my academic process, within the context of graduation', 'internship in order to obtain my national engineering diploma of Telecommunications from', 'the Higher School of Communications of Tunis (ESPRIT). It was done with collaboration', 'of DNA GA Switzerland.', 'I.1.2 Company description', 'In this subsection, we will present the company DNA GA and introduce its different work', 'fields.', 'I.1.2.1 About DNA GA', 'Founded in 2006, ADN Agency is managed by Bilel Chérif (the current CEO of the group)', 'and accompanies clients in graphic design, consulting and outdoor and digital advertising', 'management. ADN Agency has become DNA Global Analytics to cope with the fusion of', 'the physical and digital worlds. DNA comes from digital neuromarketing algorithms. Its', 'vision is to deal with marketing in a scientific way. DNA Global Analytics (or DNA GA) is', 'the only participant today who can create physical data and merge it with digital data into', '\"phygital\" data [? ] enabling brands to have a 360-degree consumer vision.', '\"Today, with our tools, we develop complex mathematical models that simplify marketing', 'decisions\" -Nihal Mougamadou, DNA GA CRO-', '4', 'Chapter I. Project Context', 'Figure I.1: DNA logo', 'I.1.2.2 Centers of interest', 'DNA GA works across industries at the intersection of emerging technologies with societal', 'trends. Therefore, it has different fields of expertise. Among which, we can cite:', '• Blockchain: The transparency created by the fully adopted blockchain can solve the', 'problem of trust, control and arbitrage in media purchasing and placement by tracking', 'the actions and discards of middlemen, who are prone to mistakes and even fraud [? ].', '• Artificial Intelligence: The goal is to use data to help brands better understand', 'customers and build a bridge between online and offline brand experiences. In order', 'to achieve this ambitious goal, a unique method was constructed by merging online', 'and offline data (such as billboards, advertising screens, navigation bars, surveillance', 'cameras, etc.), and using machine learning algorithms to find patterns through large', 'amounts of data [? ].', '• Technology: Manufacture smart cameras to analyze customer behavior in real time.', 'The AI team then processes and analyzes the collected data to create a user-friendly', 'dashboard that uses data visualization technology to display key information [? ].', '• Sport and Entertainment: Today, the sports and entertainment industries are being', 'developed in the direction of complete \"phygitalisation\". Fans hope that their teams', 'and their favorite players can have a better experience, and the new business model', 'is becoming more and more mature. Industry leaders need to use new technologies to', 'reinvent themselves in order to maintain their position [? ].', '• University: In addition to technical expertise, DNA also collaborates with several top', '5', 'Chapter I. Project Context', 'universities, renowned professors, researchers and business experts. Indeed, the commitment', 'to the development of blockchain and artificial intelligence in multiple fields', 'such as Marketing, Finance, Sports, Security and Safety has led to regular publication', 'of research and participation in the creation of research papers.', '• Health and Safety: Organizations must frequently cope with unexpected events such', 'as the COVID-19 pandemic or ever-existing threats like terrorism. These “Black swan”', 'events or perpetual threats to people safety represent new challenges and expectations', 'regarding security as well as business challenges.', 'I.1.3 Market study', 'Gathering Data in retail utilizing computer vision is not a novelty.in fact Computer', 'vision is the most technologically mature field in modern artificial intelligence and business', 'skateholders are finding ways to utilize this technology across every sector of the economy,', 'health, manufacturing and retail. One of these business is VisionLabs a dutch company', 'specialized in AI applications mainly in computer vision, a filed that is also shared with our', 'hosting company DNA.', 'Vision Labs proposes a solution similar to the one we had in mind. they offer products', 'implementing efficient and cost-effective solutions for customer flow analysis in retail facilities', 'of any size. their solution is a mobile or web application that need to be installed by the', 'customer before entering the store. their products can provide this data while detecting:', '• Age, gender and emotion classification.', '• Visitor groups.', '• Dwell and attention time', '• Unique and returning visitors', 'A solution with various features that definitely inspire us in our work, but it lacks even more', 'important features our client is searching for. One being counting people inside the store', 'and two it need to be an end to end solution that uses the installed CCTV camera footage', 'as the data source, a not a mobile application that its use depends on customer.So it now', '6', 'Chapter I. Project Context', 'clear to sat that this solution and like many more found on the internet doesn’t not match', 'the clients specific needs.', 'I.1.4 Problematic', 'Our client, a French hypermarket, wants to incorporate cutting-edge technology into their', 'daily operations in order to provide outstanding customer service, improve decision-making,', 'and gain a deeper understanding of their customers’ interests. Cora opted for an AI-powered', 'monitoring system to improve their strategy and obtain useful data.', 'Before us, Cora was adopting a traditional way of storing and processing data. Its main', 'focus was to collect data and ensure clientele understanding through online shopping on', 'the french website. The use of cookies and data collection within the browsers enables the', 'marketing managers to make decisions about upcoming promotions, sales and even enhance', 'their recommendation system.', 'However in the retail store acquiring the customer’s data is a hard task as loyalty cards are', 'often not used while purchasing, most of the time customers forget to bring it , lose it or', 'just decide not to use it. So the customer’s understanding depends solely on the fact if they', 'have this loyalty card or not.', 'Furthermore, due to covid-19 restrictions, to minimize the number of people, Cora closes its', 'store doors whenever the security agent feels like the store is a bit crowded, the decision is', 'based on the man’s perspective and not backed by real statistics which can be damaging', 'both for people health if the number of people was higher than the one perceived to be and', 'can be damaging to Cora business if security agent was letting less people than the maximum', 'required .', 'Through our meeting with cora we noted it’s business needs and functional requirements,', 'they wanted to capture variable data on consumer behavior, people leaving and entering', 'the store, the number of visitors for every minute, their demographic as in age and gender', 'precisely, and it would be integrated with a camera system. A solution like this would', 'provide our client with a broad perspective of their data, allowing them to make data-driven', 'decisions, by combining all of these elements.', '7', 'Chapter I. Project Context', 'Figure I.2: Customers segments', 'I.1.5 Solution', 'On one hand The number of individuals that visit a store or a shopping complex provides', 'important information about how well retail functions. This data can be used to estimate', 'the number of visits, as well as the busiest days and hours. Furthermore, the data can', 'be used to determine how shopper count patterns change over time, as well as the impact', 'of promotions, advertising, competition, weather, school holidays, road closures, and other', 'factors on visitor counts. It can also be used to assess the impact of relocating merchandise', 'and concessions.', 'on the other hand One of the major aspects that can influence a customer’s decision', 'is gender. women and men approach shopping with different perspectives and considerations,', 'women shop out of boredom and fun In contrast to men who shop out of necessity,', 'women go on shopping to purchase both essential and non essential goods, to socialize and', 'be stress free. In addition, female are easily attracted by advertisements compared to male.', 'Therefore, gender identification is one of marketing techniques that can be used to influence', 'buying behavior of consumers.', 'By combining the two major elements we can leverage data collection in retail though AI to', 'ensure Cora’s business growth and to adjust the company’s marketing strategy.', 'To answer to the requirements of our client we had to:', '• Decide on the most fitting hardware suited for all the technical requirements;', '8', 'Chapter I. Project Context', '• Collect and analyze in-store CCTV camera footage , to classify the customers into', 'their appropriate age and gender groups.', '• Ensure accurate maximum people allowed in the store to answer to human COVID-19', 'preventive measures.', '• the AI solution is real-time with minimal latency.', '• Deploy the solution within a short time frame.', 'finally,We collaborated closely with the client’s team to ensure that the solution was implemented', 'smoothly and in accordance with the defined goals. From the initial environment', 'evaluation to system configuration and data science model training.', 'I.1.5.1 Project Time Management', 'A project management methodology is a set of principles and practices that guide you in', 'organizing your projects to ensure their optimum performance one of the six major functions', 'is Time management which is the management of the time spent, and progress made, on', 'project tasks and activities. Excellent time management requires the planning, scheduling,', 'monitoring, and controlling of all project activities. As in all software projects , one is', 'advised to choose the project management methodology that is best suited for the project.', 'the methodology was chosen according to:', '• Flexibility: outset what the solution will look like, project is prone to change, not', 'sure how the solution outset will look like', '• Timeline: client wants to be involved in the process and see results and progress , so', 'work needs to be quick and efficient.', 'Our projects require extreme flexibility and speed. It is also iterative and incremental. It', 'is best suited to the agile project management method because team members can rapidly', 'adjust tasks as needed to ensure that the customer or business is always satisfied and is', 'provided with outcomes that result in benefits.', 'Through this method, the project is broken down into “sprints” that are our three business', 'questions.', '9', 'Chapter I. Project Context', 'Our Agile working process can be broken down into six steps.', '1. The first step is to identify the project vision. It defines what the project is, how it', 'will support the business strategy, who will benefit from it and how that will happen.', '2. The second step is to build the project road-map where the requirements are set.', '3. The third step is to create a release plan that consists in fixing the sprint’s time-frame.', '4. The fourth step is to plan and execute each sprint. The fifth step is to hold weekly', 'meetings. These meetings should discuss what was done the previous week and what', 'will be done that week.', '5. The sixth step is to hold sprint reviews. These occur at the end of each sprint and', 'consist of presenting the output to the data science team for feedback.', 'Within the project there is a cycle that will be repeated and only end when the project', 'is deemed finished.', 'Figure I.3: Agile working cycle', 'I.1.5.2 Project Management Method', 'Since time is an important factor in the project, this work should involve precise project', 'time management. To have an overview of the time taken for each phase, Figure below', 'shows how time is partitioned.', '10', 'Chapter I. Project Context', 'Figure I.4: Time Management', 'Most of time spent is spent deploying the project on the end device since we implemented', 'advanced techniques in the process so that the models we’ve build run of full speed in', 'real-time with excellent performance and low power consumption. Data preparation (Data', 'collection, cleaning, pre-processing, labelling) accounts for about 20% of the work, we’ve', 'spent this time in making data ready for training. we’ve dedicated 45 days almost 23%', 'building the core of our project, the AI models themselves ,it took us numerous trials to be', 'content with the results.', 'I.1.5.3 Gantt chart', 'In this subsection, we will use Gantt chart, which is a type of bar chart, to illustrate the', 'project schedule. In this graph, we will list the tasks to be performed on the vertical axis,', 'and time intervals on the horizontal axis. The width of the horizontal bars in the graph', 'represents the duration of each activity.', 'On this Gantt chart we can see [? ]:', '• The start date of the project.', '• what the project main tasks and sub-tasks are.', '• Starting date and the estimated time of arrival (ETA) of the tasks.', '11', 'Chapter I. Project Context', '• The duration for every task in days.', '• Notes and descriptions.', 'Figure I.5: Table of the project tasks', '12', 'Chapter I. Project Context', 'After preparing the table of the project tasks, we translated it into Gantt Chart illustrating', 'the evolution of each step of the work with the corresponding delays.', 'Figure I.6: Project understanding’s Gantt Chart', 'Figure I.7: data collection’s Gantt Chart', 'Figure I.8: data preprocessing’s Gantt Chart', 'Figure I.9: Model building’s Gantt Chart', '13', 'Chapter I. Project Context', 'Figure I.10: solution deployement’s Gantt Chart', 'Figure I.11: dashboard visualization’s Gantt Chart', '14']\n"
     ]
    }
   ],
   "source": [
    "## read sentences and extract only line which contain the keywords\n",
    "import pandas as pd\n",
    "import re\n",
    "# open file\n",
    "keyword = 'ADN Agency has become DNA Global'\n",
    "texts = open('C:/Users/Samar/Desktop/5BI4/Stage PFE/test.txt', 'r', encoding = 'utf-8').readlines()\n",
    "# define function to read file and remove next line symbol\n",
    "def read_file(file):\n",
    "    texts = []\n",
    "    for word in file:\n",
    "        text = word.rstrip('\\n')\n",
    "        texts.append(text)\n",
    "    return texts\n",
    "# save to variable        \n",
    "key = read_file(keyword)\n",
    "corpus = read_file(texts)\n",
    "print(corpus)"
   ]
  },
  {
   "cell_type": "code",
   "execution_count": 78,
   "metadata": {},
   "outputs": [
    {
     "name": "stdout",
     "output_type": "stream",
     "text": [
      "1 Project Context\n",
      "In this section, we’re going to present the general context of the project. Then, we will\n",
      "provide a description of the company which proposed and supervised it. During the latter,\n",
      "we will introduce its different center of interests. Then, we will present the market study, the\n",
      "problematic and the work methodology in DNA GA. Finally, we’ll give a brief description\n",
      "of the solution’s overview.\n",
      "I.1.1 General Context\n",
      "This project is done as part of my academic process, within the context of graduation\n",
      "internship in order to obtain my national engineering diploma of Telecommunications from\n",
      "the Higher School of Communications of Tunis (ESPRIT). It was done with collaboration\n",
      "of DNA GA Switzerland.\n",
      "I.1.2 Company description\n",
      "In this subsection, we will present the company DNA GA and introduce its different work\n",
      "fields.\n",
      "I.1.2.1 About DNA GA\n",
      "Founded in 2006, ADN Agency is managed by Bilel Chérif (the current CEO of the group)\n",
      "and accompanies clients in graphic design, consulting and outdoor and digital advertising\n",
      "management. ADN Agency has become DNA Global Analytics to cope with the fusion of\n",
      "the physical and digital worlds. DNA comes from digital neuromarketing algorithms. Its\n",
      "vision is to deal with marketing in a scientific way. DNA Global Analytics (or DNA GA) is\n",
      "the only participant today who can create physical data and merge it with digital data into\n",
      "\"phygital\" data [? ] enabling brands to have a 360-degree consumer vision.\n",
      "\"Today, with our tools, we develop complex mathematical models that simplify marketing\n",
      "decisions\" -Nihal Mougamadou, DNA GA CRO-\n",
      "4\n",
      "Chapter I. Project Context\n",
      "Figure I.1: DNA logo\n",
      "I.1.2.2 Centers of interest\n",
      "DNA GA works across industries at the intersection of emerging technologies with societal\n",
      "trends. Therefore, it has different fields of expertise. Among which, we can cite:\n",
      "• Blockchain: The transparency created by the fully adopted blockchain can solve the\n",
      "problem of trust, control and arbitrage in media purchasing and placement by tracking\n",
      "the actions and discards of middlemen, who are prone to mistakes and even fraud [? ].\n",
      "• Artificial Intelligence: The goal is to use data to help brands better understand\n",
      "customers and build a bridge between online and offline brand experiences. In order\n",
      "to achieve this ambitious goal, a unique method was constructed by merging online\n",
      "and offline data (such as billboards, advertising screens, navigation bars, surveillance\n",
      "cameras, etc.), and using machine learning algorithms to find patterns through large\n",
      "amounts of data [? ].\n",
      "• Technology: Manufacture smart cameras to analyze customer behavior in real time.\n",
      "The AI team then processes and analyzes the collected data to create a user-friendly\n",
      "dashboard that uses data visualization technology to display key information [? ].\n",
      "• Sport and Entertainment: Today, the sports and entertainment industries are being\n",
      "developed in the direction of complete \"phygitalisation\". Fans hope that their teams\n",
      "and their favorite players can have a better experience, and the new business model\n",
      "is becoming more and more mature. Industry leaders need to use new technologies to\n",
      "reinvent themselves in order to maintain their position [? ].\n",
      "• University: In addition to technical expertise, DNA also collaborates with several top\n",
      "5\n",
      "Chapter I. Project Context\n",
      "universities, renowned professors, researchers and business experts. Indeed, the commitment\n",
      "to the development of blockchain and artificial intelligence in multiple fields\n",
      "such as Marketing, Finance, Sports, Security and Safety has led to regular publication\n",
      "of research and participation in the creation of research papers.\n",
      "• Health and Safety: Organizations must frequently cope with unexpected events such\n",
      "as the COVID-19 pandemic or ever-existing threats like terrorism. These “Black swan”\n",
      "events or perpetual threats to people safety represent new challenges and expectations\n",
      "regarding security as well as business challenges.\n",
      "I.1.3 Market study\n",
      "Gathering Data in retail utilizing computer vision is not a novelty.in fact Computer\n",
      "vision is the most technologically mature field in modern artificial intelligence and business\n",
      "skateholders are finding ways to utilize this technology across every sector of the economy,\n",
      "health, manufacturing and retail. One of these business is VisionLabs a dutch company\n",
      "specialized in AI applications mainly in computer vision, a filed that is also shared with our\n",
      "hosting company DNA.\n",
      "Vision Labs proposes a solution similar to the one we had in mind. they offer products\n",
      "implementing efficient and cost-effective solutions for customer flow analysis in retail facilities\n",
      "of any size. their solution is a mobile or web application that need to be installed by the\n",
      "customer before entering the store. their products can provide this data while detecting:\n",
      "• Age, gender and emotion classification.\n",
      "• Visitor groups.\n",
      "• Dwell and attention time\n",
      "• Unique and returning visitors\n",
      "A solution with various features that definitely inspire us in our work, but it lacks even more\n",
      "important features our client is searching for. One being counting people inside the store\n",
      "and two it need to be an end to end solution that uses the installed CCTV camera footage\n",
      "as the data source, a not a mobile application that its use depends on customer.So it now\n",
      "6\n",
      "Chapter I. Project Context\n",
      "clear to sat that this solution and like many more found on the internet doesn’t not match\n",
      "the clients specific needs.\n",
      "I.1.4 Problematic\n",
      "Our client, a French hypermarket, wants to incorporate cutting-edge technology into their\n",
      "daily operations in order to provide outstanding customer service, improve decision-making,\n",
      "and gain a deeper understanding of their customers’ interests. Cora opted for an AI-powered\n",
      "monitoring system to improve their strategy and obtain useful data.\n",
      "Before us, Cora was adopting a traditional way of storing and processing data. Its main\n",
      "focus was to collect data and ensure clientele understanding through online shopping on\n",
      "the french website. The use of cookies and data collection within the browsers enables the\n",
      "marketing managers to make decisions about upcoming promotions, sales and even enhance\n",
      "their recommendation system.\n",
      "However in the retail store acquiring the customer’s data is a hard task as loyalty cards are\n",
      "often not used while purchasing, most of the time customers forget to bring it , lose it or\n",
      "just decide not to use it. So the customer’s understanding depends solely on the fact if they\n",
      "have this loyalty card or not.\n",
      "Furthermore, due to covid-19 restrictions, to minimize the number of people, Cora closes its\n",
      "store doors whenever the security agent feels like the store is a bit crowded, the decision is\n",
      "based on the man’s perspective and not backed by real statistics which can be damaging\n",
      "both for people health if the number of people was higher than the one perceived to be and\n",
      "can be damaging to Cora business if security agent was letting less people than the maximum\n",
      "required .\n",
      "Through our meeting with cora we noted it’s business needs and functional requirements,\n",
      "they wanted to capture variable data on consumer behavior, people leaving and entering\n",
      "the store, the number of visitors for every minute, their demographic as in age and gender\n",
      "precisely, and it would be integrated with a camera system. A solution like this would\n",
      "provide our client with a broad perspective of their data, allowing them to make data-driven\n",
      "decisions, by combining all of these elements.\n",
      "7\n",
      "Chapter I. Project Context\n",
      "Figure I.2: Customers segments\n",
      "I.1.5 Solution\n",
      "On one hand The number of individuals that visit a store or a shopping complex provides\n",
      "important information about how well retail functions. This data can be used to estimate\n",
      "the number of visits, as well as the busiest days and hours. Furthermore, the data can\n",
      "be used to determine how shopper count patterns change over time, as well as the impact\n",
      "of promotions, advertising, competition, weather, school holidays, road closures, and other\n",
      "factors on visitor counts. It can also be used to assess the impact of relocating merchandise\n",
      "and concessions.\n",
      "on the other hand One of the major aspects that can influence a customer’s decision\n",
      "is gender. women and men approach shopping with different perspectives and considerations,\n",
      "women shop out of boredom and fun In contrast to men who shop out of necessity,\n",
      "women go on shopping to purchase both essential and non essential goods, to socialize and\n",
      "be stress free. In addition, female are easily attracted by advertisements compared to male.\n",
      "Therefore, gender identification is one of marketing techniques that can be used to influence\n",
      "buying behavior of consumers.\n",
      "By combining the two major elements we can leverage data collection in retail though AI to\n",
      "ensure Cora’s business growth and to adjust the company’s marketing strategy.\n",
      "To answer to the requirements of our client we had to:\n",
      "• Decide on the most fitting hardware suited for all the technical requirements;\n",
      "8\n",
      "Chapter I. Project Context\n",
      "• Collect and analyze in-store CCTV camera footage , to classify the customers into\n",
      "their appropriate age and gender groups.\n",
      "• Ensure accurate maximum people allowed in the store to answer to human COVID-19\n",
      "preventive measures.\n",
      "• the AI solution is real-time with minimal latency.\n",
      "• Deploy the solution within a short time frame.\n",
      "finally,We collaborated closely with the client’s team to ensure that the solution was implemented\n",
      "smoothly and in accordance with the defined goals. From the initial environment\n",
      "evaluation to system configuration and data science model training.\n",
      "I.1.5.1 Project Time Management\n",
      "A project management methodology is a set of principles and practices that guide you in\n",
      "organizing your projects to ensure their optimum performance one of the six major functions\n",
      "is Time management which is the management of the time spent, and progress made, on\n",
      "project tasks and activities. Excellent time management requires the planning, scheduling,\n",
      "monitoring, and controlling of all project activities. As in all software projects , one is\n",
      "advised to choose the project management methodology that is best suited for the project.\n",
      "the methodology was chosen according to:\n",
      "• Flexibility: outset what the solution will look like, project is prone to change, not\n",
      "sure how the solution outset will look like\n",
      "• Timeline: client wants to be involved in the process and see results and progress , so\n",
      "work needs to be quick and efficient.\n",
      "Our projects require extreme flexibility and speed. It is also iterative and incremental. It\n",
      "is best suited to the agile project management method because team members can rapidly\n",
      "adjust tasks as needed to ensure that the customer or business is always satisfied and is\n",
      "provided with outcomes that result in benefits.\n",
      "Through this method, the project is broken down into “sprints” that are our three business\n",
      "questions.\n",
      "9\n",
      "Chapter I. Project Context\n",
      "Our Agile working process can be broken down into six steps.\n",
      "1. The first step is to identify the project vision. It defines what the project is, how it\n",
      "will support the business strategy, who will benefit from it and how that will happen.\n",
      "2. The second step is to build the project road-map where the requirements are set.\n",
      "3. The third step is to create a release plan that consists in fixing the sprint’s time-frame.\n",
      "4. The fourth step is to plan and execute each sprint. The fifth step is to hold weekly\n",
      "meetings. These meetings should discuss what was done the previous week and what\n",
      "will be done that week.\n",
      "5. The sixth step is to hold sprint reviews. These occur at the end of each sprint and\n",
      "consist of presenting the output to the data science team for feedback.\n",
      "Within the project there is a cycle that will be repeated and only end when the project\n",
      "is deemed finished.\n",
      "Figure I.3: Agile working cycle\n",
      "I.1.5.2 Project Management Method\n",
      "Since time is an important factor in the project, this work should involve precise project\n",
      "time management. To have an overview of the time taken for each phase, Figure below\n",
      "shows how time is partitioned.\n",
      "10\n",
      "Chapter I. Project Context\n",
      "Figure I.4: Time Management\n",
      "Most of time spent is spent deploying the project on the end device since we implemented\n",
      "advanced techniques in the process so that the models we’ve build run of full speed in\n",
      "real-time with excellent performance and low power consumption. Data preparation (Data\n",
      "collection, cleaning, pre-processing, labelling) accounts for about 20% of the work, we’ve\n",
      "spent this time in making data ready for training. we’ve dedicated 45 days almost 23%\n",
      "building the core of our project, the AI models themselves ,it took us numerous trials to be\n",
      "content with the results.\n",
      "I.1.5.3 Gantt chart\n",
      "In this subsection, we will use Gantt chart, which is a type of bar chart, to illustrate the\n",
      "project schedule. In this graph, we will list the tasks to be performed on the vertical axis,\n",
      "and time intervals on the horizontal axis. The width of the horizontal bars in the graph\n",
      "represents the duration of each activity.\n",
      "On this Gantt chart we can see [? ]:\n",
      "• The start date of the project.\n",
      "• what the project main tasks and sub-tasks are.\n",
      "• Starting date and the estimated time of arrival (ETA) of the tasks.\n",
      "11\n",
      "Chapter I. Project Context\n",
      "• The duration for every task in days.\n",
      "• Notes and descriptions.\n",
      "Figure I.5: Table of the project tasks\n",
      "12\n",
      "Chapter I. Project Context\n",
      "After preparing the table of the project tasks, we translated it into Gantt Chart illustrating\n",
      "the evolution of each step of the work with the corresponding delays.\n",
      "Figure I.6: Project understanding’s Gantt Chart\n",
      "Figure I.7: data collection’s Gantt Chart\n",
      "Figure I.8: data preprocessing’s Gantt Chart\n",
      "Figure I.9: Model building’s Gantt Chart\n",
      "13\n",
      "Chapter I. Project Context\n",
      "Figure I.10: solution deployement’s Gantt Chart\n",
      "Figure I.11: dashboard visualization’s Gantt Chart\n",
      "14\n",
      "\n"
     ]
    }
   ],
   "source": [
    "with open('C:/Users/Samar/Desktop/5BI4/Stage PFE/test.txt',\"r\",encoding='utf-8') as f:\n",
    "    lines = f.readlines()\n",
    "    X = listToString(lines)\n",
    "    #print(X)\n",
    "    x = X[2:]\n",
    "    print(x)"
   ]
  },
  {
   "cell_type": "code",
   "execution_count": 71,
   "metadata": {},
   "outputs": [],
   "source": [
    "# Function to convert  \n",
    "def listToString(s): \n",
    "    \n",
    "    # initialize an empty string\n",
    "    str1 = \"\" \n",
    "    \n",
    "    # traverse in the string  \n",
    "    for ele in s: \n",
    "        str1 += ele  \n",
    "    \n",
    "    # return string  \n",
    "    return str1 "
   ]
  },
  {
   "cell_type": "code",
   "execution_count": 133,
   "metadata": {},
   "outputs": [
    {
     "name": "stdout",
     "output_type": "stream",
     "text": [
      "[]\n"
     ]
    }
   ],
   "source": [
    "with open('C:/Users/Samar/Desktop/5BI4/Stage PFE/test.txt',\"r\",encoding='utf-8') as f:\n",
    "    lines = f.readlines()\n",
    "    #print(lines)\n",
    "\n",
    "    p = re.compile(r'')\n",
    "    print(p.findall(str(lines)))\n",
    "    \n",
    "    "
   ]
  },
  {
   "cell_type": "code",
   "execution_count": 100,
   "metadata": {},
   "outputs": [
    {
     "ename": "KeyboardInterrupt",
     "evalue": "Interrupted by user",
     "output_type": "error",
     "traceback": [
      "\u001b[1;31m---------------------------------------------------------------------------\u001b[0m",
      "\u001b[1;31mKeyboardInterrupt\u001b[0m                         Traceback (most recent call last)",
      "\u001b[1;32m<ipython-input-100-cd4ddcfcc8d8>\u001b[0m in \u001b[0;36m<module>\u001b[1;34m\u001b[0m\n\u001b[0;32m      7\u001b[0m \u001b[1;31m# iterate over files in\u001b[0m\u001b[1;33m\u001b[0m\u001b[1;33m\u001b[0m\u001b[1;33m\u001b[0m\u001b[0m\n\u001b[0;32m      8\u001b[0m \u001b[1;31m# that directory\u001b[0m\u001b[1;33m\u001b[0m\u001b[1;33m\u001b[0m\u001b[1;33m\u001b[0m\u001b[0m\n\u001b[1;32m----> 9\u001b[1;33m \u001b[0mpattern\u001b[0m \u001b[1;33m=\u001b[0m \u001b[0mre\u001b[0m\u001b[1;33m.\u001b[0m\u001b[0mcompile\u001b[0m\u001b[1;33m(\u001b[0m\u001b[0minput\u001b[0m\u001b[1;33m(\u001b[0m\u001b[1;34m\"Enter_the_text_to_Search_here\"\u001b[0m\u001b[1;33m)\u001b[0m\u001b[1;33m)\u001b[0m\u001b[1;33m\u001b[0m\u001b[1;33m\u001b[0m\u001b[0m\n\u001b[0m\u001b[0;32m     10\u001b[0m \u001b[1;32mfor\u001b[0m \u001b[0mfilename\u001b[0m \u001b[1;32min\u001b[0m \u001b[0mos\u001b[0m\u001b[1;33m.\u001b[0m\u001b[0mlistdir\u001b[0m\u001b[1;33m(\u001b[0m\u001b[0mdirectory\u001b[0m\u001b[1;33m)\u001b[0m\u001b[1;33m:\u001b[0m\u001b[1;33m\u001b[0m\u001b[1;33m\u001b[0m\u001b[0m\n\u001b[0;32m     11\u001b[0m     \u001b[1;32mif\u001b[0m \u001b[1;32mnot\u001b[0m \u001b[0mfilename\u001b[0m\u001b[1;33m.\u001b[0m\u001b[0mstartswith\u001b[0m\u001b[1;33m(\u001b[0m\u001b[1;34m'~$'\u001b[0m\u001b[1;33m)\u001b[0m \u001b[1;32mand\u001b[0m \u001b[0mfilename\u001b[0m\u001b[1;33m.\u001b[0m\u001b[0mendswith\u001b[0m\u001b[1;33m(\u001b[0m\u001b[1;34m'.pdf'\u001b[0m\u001b[1;33m)\u001b[0m\u001b[1;33m:\u001b[0m\u001b[1;33m\u001b[0m\u001b[1;33m\u001b[0m\u001b[0m\n",
      "\u001b[1;32mC:\\ProgramData\\Anaconda3\\lib\\site-packages\\ipykernel\\kernelbase.py\u001b[0m in \u001b[0;36mraw_input\u001b[1;34m(self, prompt)\u001b[0m\n\u001b[0;32m    858\u001b[0m                 \u001b[1;34m\"raw_input was called, but this frontend does not support input requests.\"\u001b[0m\u001b[1;33m\u001b[0m\u001b[1;33m\u001b[0m\u001b[0m\n\u001b[0;32m    859\u001b[0m             )\n\u001b[1;32m--> 860\u001b[1;33m         return self._input_request(str(prompt),\n\u001b[0m\u001b[0;32m    861\u001b[0m             \u001b[0mself\u001b[0m\u001b[1;33m.\u001b[0m\u001b[0m_parent_ident\u001b[0m\u001b[1;33m,\u001b[0m\u001b[1;33m\u001b[0m\u001b[1;33m\u001b[0m\u001b[0m\n\u001b[0;32m    862\u001b[0m             \u001b[0mself\u001b[0m\u001b[1;33m.\u001b[0m\u001b[0m_parent_header\u001b[0m\u001b[1;33m,\u001b[0m\u001b[1;33m\u001b[0m\u001b[1;33m\u001b[0m\u001b[0m\n",
      "\u001b[1;32mC:\\ProgramData\\Anaconda3\\lib\\site-packages\\ipykernel\\kernelbase.py\u001b[0m in \u001b[0;36m_input_request\u001b[1;34m(self, prompt, ident, parent, password)\u001b[0m\n\u001b[0;32m    902\u001b[0m             \u001b[1;32mexcept\u001b[0m \u001b[0mKeyboardInterrupt\u001b[0m\u001b[1;33m:\u001b[0m\u001b[1;33m\u001b[0m\u001b[1;33m\u001b[0m\u001b[0m\n\u001b[0;32m    903\u001b[0m                 \u001b[1;31m# re-raise KeyboardInterrupt, to truncate traceback\u001b[0m\u001b[1;33m\u001b[0m\u001b[1;33m\u001b[0m\u001b[1;33m\u001b[0m\u001b[0m\n\u001b[1;32m--> 904\u001b[1;33m                 \u001b[1;32mraise\u001b[0m \u001b[0mKeyboardInterrupt\u001b[0m\u001b[1;33m(\u001b[0m\u001b[1;34m\"Interrupted by user\"\u001b[0m\u001b[1;33m)\u001b[0m \u001b[1;32mfrom\u001b[0m \u001b[1;32mNone\u001b[0m\u001b[1;33m\u001b[0m\u001b[1;33m\u001b[0m\u001b[0m\n\u001b[0m\u001b[0;32m    905\u001b[0m             \u001b[1;32mexcept\u001b[0m \u001b[0mException\u001b[0m \u001b[1;32mas\u001b[0m \u001b[0me\u001b[0m\u001b[1;33m:\u001b[0m\u001b[1;33m\u001b[0m\u001b[1;33m\u001b[0m\u001b[0m\n\u001b[0;32m    906\u001b[0m                 \u001b[0mself\u001b[0m\u001b[1;33m.\u001b[0m\u001b[0mlog\u001b[0m\u001b[1;33m.\u001b[0m\u001b[0mwarning\u001b[0m\u001b[1;33m(\u001b[0m\u001b[1;34m\"Invalid Message:\"\u001b[0m\u001b[1;33m,\u001b[0m \u001b[0mexc_info\u001b[0m\u001b[1;33m=\u001b[0m\u001b[1;32mTrue\u001b[0m\u001b[1;33m)\u001b[0m\u001b[1;33m\u001b[0m\u001b[1;33m\u001b[0m\u001b[0m\n",
      "\u001b[1;31mKeyboardInterrupt\u001b[0m: Interrupted by user"
     ]
    }
   ],
   "source": [
    "# import required module\n",
    "import os\n",
    "import re\n",
    "import PyPDF2 \n",
    "# assign directory\n",
    "directory = 'C:/Users/Samar/Desktop/5BI4/Stage PFE/UPDATED_NLP_COURSE/00-Python-Text-Basics'\n",
    "# iterate over files in\n",
    "# that directory\n",
    "pattern = re.compile(input(\"Enter_the_text_to_Search_here\"))\n",
    "for filename in os.listdir(directory):\n",
    "    if not filename.startswith('~$') and filename.endswith('.pdf'):\n",
    "        f = os.path.join(directory, filename)\n",
    "        myfile = open(f, mode='rb')\n",
    "        pdf_reader = PyPDF2.PdfFileReader(myfile)\n",
    "        num_pages = pdf_reader.numPages\n",
    "        for i in range(0, num_pages):\n",
    "            page = pdf_reader.getPage(i)\n",
    "            #print(\"this is page \" + str(i)) \n",
    "            Text = page.extractText()\n",
    "            if pattern.search(Text):\n",
    "                print(Text)\n",
    "    \n"
   ]
  },
  {
   "cell_type": "markdown",
   "metadata": {},
   "source": [
    "# find A STRING AND EXTRACT THE TEXT "
   ]
  },
  {
   "cell_type": "code",
   "execution_count": 148,
   "metadata": {},
   "outputs": [
    {
     "name": "stdout",
     "output_type": "stream",
     "text": [
      "Found tion, we will present the company DNA GA and introduce i at 759:815\n",
      "we will present the market study, the\n",
      "problematic and the work methodology in DNA GA. Finally, we’ll give a brief description\n",
      "of the solution’s overview.\n",
      "I.1.1 General Context\n",
      "This project is done as part of my academic process, within the context of graduation\n",
      "internship in order to obtain my national engineering diploma of Telecommunications from\n",
      "the Higher School of Communications of Tunis (ESPRIT). It was done with collaboration\n",
      "of DNA GA Switzerland.\n",
      "I.1.2 Company description\n",
      "In this subsection, we will present the company DNA GA and introduce i\n"
     ]
    }
   ],
   "source": [
    "import re\n",
    "with open('C:/Users/Samar/Desktop/5BI4/Stage PFE/test.txt',\"r\",encoding='utf-8') as f:\n",
    "    lines = f.readlines()\n",
    "    text = listToString(lines)\n",
    "\n",
    "pattern = re.compile(r'tion, we will present the company DNA GA and introduce i')\n",
    "\n",
    "found = re.finditer(pattern, text)\n",
    "\n",
    "for item in found:\n",
    "\n",
    "    s = item.start()\n",
    "    e = item.end()\n",
    "    print(f'Found {text[s:e]} at {s}:{e}')\n",
    "    print(text[s-500:e]) # Line 1\n",
    "    substring = text[s-500:e]"
   ]
  },
  {
   "cell_type": "code",
   "execution_count": 220,
   "metadata": {},
   "outputs": [
    {
     "name": "stdout",
     "output_type": "stream",
     "text": [
      "<class 'str'>\n",
      "1.2.1 About DNA GA\n",
      "['1.2']\n",
      "['1.2', '1.2', '1.2', '1.2', '1.2', '1.2']\n"
     ]
    }
   ],
   "source": [
    "import re\n",
    "with open('C:/Users/Samar/Desktop/5BI4/Stage PFE/test.txt',\"r\",encoding='utf-8') as f:\n",
    "    lines = f.readlines()\n",
    "    text = listToString(lines)\n",
    "\n",
    "pattern = re.compile(r' clients in graphic design, consulting and outdoor')\n",
    "\n",
    "found = re.finditer(pattern, text)\n",
    "\n",
    "for item in found:\n",
    "\n",
    "    s = item.start()\n",
    "    e = item.end()\n",
    "    #print(f'Found {text[s:e]} at {s}:{e}')\n",
    "    #print(text[s-500:e]) # Line 1\n",
    "    substring = text[s-500:e]\n",
    "    p = re.compile(r'\\d+.\\d+.\\d+\\s+.*')\n",
    "    #print(p.findall(str(substring)))\n",
    "    list = p.findall(str(substring))\n",
    "    if list != []:\n",
    "        #print(\"not empty\")\n",
    "        print(type(listToString(list)))\n",
    "        for i in list:\n",
    "            print(i)\n",
    "            pa = re.compile(r'\\d+.\\d+')\n",
    "            print(pa.findall(str(list)))\n",
    "            second = pa.findall(str(list))\n",
    "            T = listToString(second)\n",
    "            pat = re.compile((T))\n",
    "            print(pat.findall(str(text)))\n",
    "            \n",
    "        "
   ]
  },
  {
   "cell_type": "code",
   "execution_count": 249,
   "metadata": {},
   "outputs": [
    {
     "name": "stdout",
     "output_type": "stream",
     "text": [
      "['1.2.1 About DNA GA']\n",
      "<class 'str'>\n",
      "1.2.1 About DNA GA\n",
      "['1.2']\n",
      "['1.2 Company description . . . . . . . . . . . . . . . . . . . . . . . . . . . 4', '1.2 YOLO . . . . . . . . . . . . . . . . . . . . . . . . . . . . . . . . . . . 30', '1.2 system Value chain . . . . . . . . . . . . . . . . . . . . . . . . . . . . 40', '1.2 Company description']\n"
     ]
    }
   ],
   "source": [
    "import re\n",
    "with open('C:/Users/Samar/Desktop/5BI4/Stage PFE/test.txt',\"r\",encoding='utf-8') as f:\n",
    "    lines = f.readlines()\n",
    "    text = listToString(lines)\n",
    "\n",
    "pattern = re.compile(r' clients in graphic design, consulting and outdoor')\n",
    "\n",
    "found = re.finditer(pattern, text)\n",
    "\n",
    "for item in found:\n",
    "\n",
    "    s = item.start()\n",
    "    e = item.end()\n",
    "    #print(f'Found {text[s:e]} at {s}:{e}')\n",
    "    #print(text[s-500:e]) # Line 1\n",
    "    substring = text[s-500:e]\n",
    "    p = re.compile(r'\\d+.\\d+.\\d+\\s+.*')\n",
    "    print(p.findall(str(substring)))\n",
    "    list = p.findall(str(substring))\n",
    "    if list != []:\n",
    "        #print(\"not empty\")\n",
    "        print(type(listToString(list)))\n",
    "        for i in list:\n",
    "            print(i)\n",
    "            pa = re.compile(r'\\d+.\\d+')\n",
    "            print(pa.findall(str(list)))\n",
    "            second = pa.findall(str(list))\n",
    "            T = listToString(second)\n",
    "            pat = re.compile(T+\"\\s+.*\")\n",
    "            print(pat.findall(str(text)))\n",
    "            "
   ]
  },
  {
   "cell_type": "code",
   "execution_count": null,
   "metadata": {},
   "outputs": [],
   "source": []
  }
 ],
 "metadata": {
  "kernelspec": {
   "display_name": "Python 3",
   "language": "python",
   "name": "python3"
  },
  "language_info": {
   "codemirror_mode": {
    "name": "ipython",
    "version": 3
   },
   "file_extension": ".py",
   "mimetype": "text/x-python",
   "name": "python",
   "nbconvert_exporter": "python",
   "pygments_lexer": "ipython3",
   "version": "3.8.5"
  }
 },
 "nbformat": 4,
 "nbformat_minor": 4
}
