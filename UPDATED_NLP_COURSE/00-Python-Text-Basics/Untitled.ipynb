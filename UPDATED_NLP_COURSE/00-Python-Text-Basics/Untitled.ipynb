{
 "cells": [
  {
   "cell_type": "code",
   "execution_count": 2,
   "metadata": {},
   "outputs": [],
   "source": [
    "import PyPDF2 \n",
    "import re"
   ]
  },
  {
   "cell_type": "code",
   "execution_count": 2,
   "metadata": {},
   "outputs": [],
   "source": [
    "myfile = open('US_declaration.pdf', mode='rb')"
   ]
  },
  {
   "cell_type": "code",
   "execution_count": 3,
   "metadata": {},
   "outputs": [],
   "source": [
    "pdf_reader = PyPDF2.PdfFileReader(myfile)"
   ]
  },
  {
   "cell_type": "code",
   "execution_count": 4,
   "metadata": {},
   "outputs": [],
   "source": [
    "num_pages = pdf_reader.numPages"
   ]
  },
  {
   "cell_type": "code",
   "execution_count": 45,
   "metadata": {},
   "outputs": [],
   "source": [
    "page_one= pdf_reader.getPage(0)"
   ]
  },
  {
   "cell_type": "code",
   "execution_count": 46,
   "metadata": {},
   "outputs": [
    {
     "name": "stdout",
     "output_type": "stream",
     "text": [
      "Declaration of IndependenceIN CONGRESS, July 4, 1776. The unanimous Declaration of the thirteen united States of America, When in the Course of human events, it becomes necessary for one people to dissolve the\n",
      "political bands which have connected them with another, and to assume among the powers of the\n",
      "earth, the separate and equal station to which the Laws of Nature and of Nature's God entitle\n",
      "\n",
      "them, a decent respect to the opinions of mankind requires that they should declare the causes\n",
      "\n",
      "which impel them to the separation. \n",
      "We hold these truths to be self-evident, that all men are created equal, that they are endowed by\n",
      "\n",
      "their Creator with certain unalienable Rights, that among these are Life, Liberty and the pursuit\n",
      "of Happiness.ŠThat to secure these rights, Governments are instituted among Men, deriving\n",
      "\n",
      "their just powers from the consent of the governed,ŠThat whenever any Form of Government\n",
      "becomes destructive of these ends, it is the Right of the People to alter or to abolish it, and to\n",
      "institute new Government, laying its foundation on such principles and organizing its powers in\n",
      "such form, as to them shall seem most likely to effect their Safety and Happiness. Prudence,\n",
      "\n",
      "indeed, will dictate that Governments long established should not be changed for light and\n",
      "transient causes; and accordingly all experience hath shewn, that mankind are more disposed to\n",
      "suffer, while evils are sufferable, than to right themselves by abolishing the forms to which they\n",
      "\n",
      "are accustomed. But when a long train of abuses and usurpations, pursuing invariably the same\n",
      "Object evinces a design to reduce them under absolute Despotism, it is their right, it is their duty,\n",
      "to throw off such Government, and to provide new Guards for their future security.ŠSuch has\n",
      "been the patient sufferance of these Colonies; and such is now the necessity which constrains\n",
      "\n",
      "them to alter their former Systems of Government. The history of the present King of Great\n",
      "\n",
      "Britain is a history of repeated injuries and usurpations, all having in direct object the\n",
      "establishment of an absolute Tyranny over these States. To prove this, let Facts be submitted to a\n",
      "candid world. He has refused his Assent to Laws, the most wholesome and necessary for the\n",
      "public good.\n",
      "He has forbidden his Governors to pass Laws of immediate and pressing\n",
      "importance, unless suspended in their operation till his Assent should be obtained;\n",
      "and when so suspended, he has utterly neglected to attend to them.\n",
      "\n",
      "He has refused to pass other Laws for the accommodation of large districts of\n",
      "people, unless those people would relinquish the right of Representation in the\n",
      "Legislature, a right inestimable to them and formidable to tyrants only. \n",
      "\n",
      "He has called together legislative bodies at places unusual, uncomfortable, and distant\n",
      "from the depository of their public Records, for the sole purpose of fatiguing them into\n",
      "compliance with his measures.\n",
      "\n"
     ]
    }
   ],
   "source": [
    "page_one.extractText()\n",
    "print(page_one.extractText())"
   ]
  },
  {
   "cell_type": "code",
   "execution_count": 12,
   "metadata": {},
   "outputs": [],
   "source": [
    "myfile.close()"
   ]
  },
  {
   "cell_type": "code",
   "execution_count": null,
   "metadata": {},
   "outputs": [],
   "source": [
    "# define keyterms\n",
    "pattern = re.compile(input(\"Enter_the_text_to_Search_here\"))\n",
    "\n",
    "# extract text and do the search\n",
    "for i in range(0, num_pages):\n",
    "    page = pdf_reader.getPage(i)\n",
    "    #print(\"this is page \" + str(i)) \n",
    "    Text = page.extractText()\n",
    "        \n",
    "    if pattern.search(Text):\n",
    "            print(\"Found the paragraph in this file\",i)\n",
    "    "
   ]
  },
  {
   "cell_type": "code",
   "execution_count": 43,
   "metadata": {},
   "outputs": [
    {
     "name": "stdout",
     "output_type": "stream",
     "text": [
      "Enter_the_text_to_Search_hereSamuel Huntington\n",
      "Did not find the paragraph :(\n",
      "Did not find the paragraph :(\n",
      "Did not find the paragraph :(\n",
      "Did not find the paragraph :(\n",
      "Found the paragraph in this file 4\n"
     ]
    }
   ],
   "source": [
    "# define keyterms\n",
    "pattern = re.compile(input(\"Enter_the_text_to_Search_here\"))\n",
    "\n",
    "# extract text and do the search\n",
    "for i in range(0, num_pages):\n",
    "    page = pdf_reader.getPage(i)\n",
    "    #print(\"this is page \" + str(i)) \n",
    "    Text = page.extractText()\n",
    "    if pattern.search(Text):\n",
    "        print(\"Found the paragraph in this file\",i)\n",
    "    else:\n",
    "        print(\"Did not find the paragraph :(\")"
   ]
  },
  {
   "cell_type": "code",
   "execution_count": 36,
   "metadata": {},
   "outputs": [
    {
     "name": "stdout",
     "output_type": "stream",
     "text": [
      "Enter_the_text_to_Search_herewill dictate that Governments long established should not be changed for light and\n",
      "Found the Text on page 1 from the file : .ipynb_checkpoints\n",
      "Found the Text on page 1 from the file : 00-Working-with-Text-Files.ipynb\n",
      "Found the Text on page 1 from the file : 01-Working-with-PDF-Text.ipynb\n",
      "Found the Text on page 1 from the file : 02-Regular-Expressions.ipynb\n",
      "Found the Text on page 1 from the file : 03-Python-Text-Basics-Assessment.ipynb\n",
      "Found the Text on page 1 from the file : 04-Python-Text-Basics-Assessment-Solutions.ipynb\n",
      "C:/Users/Samar/Desktop/5BI4/Stage PFE/UPDATED_NLP_COURSE/00-Python-Text-Basics\\Business_Proposal.pdf\n",
      "C:/Users/Samar/Desktop/5BI4/Stage PFE/UPDATED_NLP_COURSE/00-Python-Text-Basics\\Some_New_Doc.pdf\n",
      "Found the Text on page 1 from the file : Some_New_Doc.pdf\n",
      "Found the Text on page 1 from the file : test.txt\n",
      "Found the Text on page 1 from the file : Untitled.ipynb\n",
      "C:/Users/Samar/Desktop/5BI4/Stage PFE/UPDATED_NLP_COURSE/00-Python-Text-Basics\\US_Declaration.pdf\n",
      "Found the Text on page 1 from the file : US_Declaration.pdf\n",
      "Found the Text on page 1 from the file : US_Declaration.pdf.txt\n",
      "Found the Text on page 1 from the file : US_Declaration.txt\n"
     ]
    }
   ],
   "source": [
    "# import required module\n",
    "import os\n",
    "import re\n",
    "import PyPDF2 \n",
    "# assign directory\n",
    "directory = 'C:/Users/Samar/Desktop/5BI4/Stage PFE/UPDATED_NLP_COURSE/00-Python-Text-Basics'\n",
    "list = []\n",
    "# iterate over files in\n",
    "# that directory\n",
    "pattern = re.compile(input(\"Enter_the_text_to_Search_here\"))\n",
    "for filename in os.listdir(directory):\n",
    "    if not filename.startswith('~$') and filename.endswith('.pdf'):\n",
    "        f = os.path.join(directory, filename)\n",
    "        myfile = open(f, mode='rb')\n",
    "        pdf_reader = PyPDF2.PdfFileReader(myfile)\n",
    "        num_pages = pdf_reader.numPages\n",
    "        print(f)\n",
    "    # extract text and do the search\n",
    "    for i in range(0, num_pages):\n",
    "        page = pdf_reader.getPage(i)\n",
    "          #print(\"this is page \" + str(i)) \n",
    "        Text = page.extractText()\n",
    "        if pattern.search(Text):\n",
    "            print(\"Found the Text on page\",i+1, \"from the file :\", filename)        \n",
    "    "
   ]
  },
  {
   "cell_type": "code",
   "execution_count": 11,
   "metadata": {},
   "outputs": [
    {
     "name": "stdout",
     "output_type": "stream",
     "text": [
      "C:/Users/Samar/Desktop/5BI4/Stage PFE/UPDATED_NLP_COURSE/00-Python-Text-Basics\\Business_Proposal.pdf\n",
      "C:/Users/Samar/Desktop/5BI4/Stage PFE/UPDATED_NLP_COURSE/00-Python-Text-Basics\\Some_New_Doc.pdf\n",
      "C:/Users/Samar/Desktop/5BI4/Stage PFE/UPDATED_NLP_COURSE/00-Python-Text-Basics\\US_Declaration.pdf\n"
     ]
    }
   ],
   "source": [
    "# import required module\n",
    "import os\n",
    "import re\n",
    "# assign directory\n",
    "directory = 'C:/Users/Samar/Desktop/5BI4/Stage PFE/UPDATED_NLP_COURSE/00-Python-Text-Basics'\n",
    " \n",
    "# iterate over files in\n",
    "# that directory\n",
    "\n",
    "for filename in os.listdir(directory):\n",
    "    if not filename.startswith('~$') and filename.endswith('.pdf'):\n",
    "        f = os.path.join(directory, filename)\n",
    "        print(f)"
   ]
  },
  {
   "cell_type": "code",
   "execution_count": 37,
   "metadata": {},
   "outputs": [
    {
     "data": {
      "text/plain": [
       "['C:/Users/Samar/Desktop/5BI4/Stage PFE/UPDATED_NLP_COURSE/00-Python-Text-Basics\\\\Business_Proposal.pdf',\n",
       " 'C:/Users/Samar/Desktop/5BI4/Stage PFE/UPDATED_NLP_COURSE/00-Python-Text-Basics\\\\Some_New_Doc.pdf',\n",
       " 'C:/Users/Samar/Desktop/5BI4/Stage PFE/UPDATED_NLP_COURSE/00-Python-Text-Basics\\\\US_Declaration.pdf']"
      ]
     },
     "execution_count": 37,
     "metadata": {},
     "output_type": "execute_result"
    }
   ],
   "source": [
    "# import required module\n",
    "import os\n",
    "import re\n",
    "import PyPDF2 \n",
    "# assign directory\n",
    "directory = 'C:/Users/Samar/Desktop/5BI4/Stage PFE/UPDATED_NLP_COURSE/00-Python-Text-Basics'\n",
    "list = []\n",
    "# iterate over files in\n",
    "# that directory\n",
    "for filename in os.listdir(directory):\n",
    "    if not filename.startswith('~$') and filename.endswith('.pdf'):\n",
    "        f = os.path.join(directory, filename)\n",
    "        list.append(f)\n",
    "list"
   ]
  },
  {
   "cell_type": "code",
   "execution_count": 38,
   "metadata": {},
   "outputs": [
    {
     "name": "stdout",
     "output_type": "stream",
     "text": [
      "C:/Users/Samar/Desktop/5BI4/Stage PFE/UPDATED_NLP_COURSE/00-Python-Text-Basics\\Business_Proposal.pdf\n",
      "C:/Users/Samar/Desktop/5BI4/Stage PFE/UPDATED_NLP_COURSE/00-Python-Text-Basics\\Some_New_Doc.pdf\n",
      "C:/Users/Samar/Desktop/5BI4/Stage PFE/UPDATED_NLP_COURSE/00-Python-Text-Basics\\US_Declaration.pdf\n"
     ]
    }
   ],
   "source": [
    "i = 0\n",
    "while i < len(list):\n",
    "  print(list[i])\n",
    "  i = i + 1"
   ]
  },
  {
   "cell_type": "code",
   "execution_count": 2,
   "metadata": {},
   "outputs": [
    {
     "name": "stdout",
     "output_type": "stream",
     "text": [
      "Enter_the_text_to_Search_hereHe has refused to pass other Laws for the accommodation of large districts of\n",
      "Found the Text on page 1 from the file : Some_New_Doc.pdf\n",
      "Found the Text on page 1 from the file : US_Declaration.pdf\n"
     ]
    }
   ],
   "source": [
    "# import required module\n",
    "import os\n",
    "import re\n",
    "import PyPDF2 \n",
    "# assign directory\n",
    "directory = 'C:/Users/Samar/Desktop/5BI4/Stage PFE/UPDATED_NLP_COURSE/00-Python-Text-Basics'\n",
    "# iterate over files in\n",
    "# that directory\n",
    "pattern = re.compile(input(\"Enter_the_text_to_Search_here\"))\n",
    "for filename in os.listdir(directory):\n",
    "    if not filename.startswith('~$') and filename.endswith('.pdf'):\n",
    "        f = os.path.join(directory, filename)\n",
    "        myfile = open(f, mode='rb')\n",
    "        pdf_reader = PyPDF2.PdfFileReader(myfile)\n",
    "        num_pages = pdf_reader.numPages\n",
    "        for i in range(0, num_pages):\n",
    "            page = pdf_reader.getPage(i)\n",
    "          #print(\"this is page \" + str(i)) \n",
    "            Text = page.extractText()\n",
    "            if pattern.search(Text):\n",
    "                print(\"Found the Text on page\",i+1, \"from the file :\", filename)   \n",
    "       \n",
    "    "
   ]
  },
  {
   "cell_type": "code",
   "execution_count": 17,
   "metadata": {},
   "outputs": [
    {
     "name": "stdout",
     "output_type": "stream",
     "text": [
      "[+] Found a total of 1 images in page 0\n",
      "[!] No images found on page 1\n",
      "[!] No images found on page 2\n",
      "[!] No images found on page 3\n",
      "[!] No images found on page 4\n",
      "[!] No images found on page 5\n",
      "[!] No images found on page 6\n",
      "[!] No images found on page 7\n",
      "[!] No images found on page 8\n",
      "[!] No images found on page 9\n",
      "[!] No images found on page 10\n",
      "[!] No images found on page 11\n",
      "[!] No images found on page 12\n",
      "[!] No images found on page 13\n",
      "[!] No images found on page 14\n",
      "[!] No images found on page 15\n",
      "[+] Found a total of 1 images in page 16\n",
      "[!] No images found on page 17\n",
      "[!] No images found on page 18\n",
      "[+] Found a total of 1 images in page 19\n",
      "[!] No images found on page 20\n",
      "[+] Found a total of 1 images in page 21\n",
      "[+] Found a total of 1 images in page 22\n",
      "[+] Found a total of 1 images in page 23\n",
      "[+] Found a total of 4 images in page 24\n",
      "[+] Found a total of 2 images in page 25\n",
      "[!] No images found on page 26\n",
      "[!] No images found on page 27\n",
      "[+] Found a total of 1 images in page 28\n",
      "[+] Found a total of 3 images in page 29\n",
      "[+] Found a total of 3 images in page 30\n",
      "[+] Found a total of 4 images in page 31\n",
      "[+] Found a total of 4 images in page 32\n",
      "[+] Found a total of 2 images in page 33\n",
      "[+] Found a total of 3 images in page 34\n",
      "[+] Found a total of 2 images in page 35\n",
      "[!] No images found on page 36\n",
      "[!] No images found on page 37\n",
      "[+] Found a total of 1 images in page 38\n",
      "[!] No images found on page 39\n",
      "[!] No images found on page 40\n",
      "[!] No images found on page 41\n",
      "[+] Found a total of 1 images in page 42\n",
      "[!] No images found on page 43\n",
      "[!] No images found on page 44\n",
      "[!] No images found on page 45\n",
      "[+] Found a total of 1 images in page 46\n",
      "[+] Found a total of 1 images in page 47\n",
      "[+] Found a total of 1 images in page 48\n",
      "[!] No images found on page 49\n",
      "[!] No images found on page 50\n",
      "[+] Found a total of 1 images in page 51\n",
      "[+] Found a total of 1 images in page 52\n",
      "[+] Found a total of 1 images in page 53\n",
      "[!] No images found on page 54\n",
      "[+] Found a total of 1 images in page 55\n",
      "[!] No images found on page 56\n",
      "[+] Found a total of 1 images in page 57\n",
      "[!] No images found on page 58\n",
      "[!] No images found on page 59\n",
      "[!] No images found on page 60\n",
      "[+] Found a total of 1 images in page 61\n",
      "[!] No images found on page 62\n",
      "[+] Found a total of 1 images in page 63\n",
      "[!] No images found on page 64\n",
      "[!] No images found on page 65\n",
      "[+] Found a total of 1 images in page 66\n",
      "[!] No images found on page 67\n",
      "[!] No images found on page 68\n",
      "[!] No images found on page 69\n",
      "[!] No images found on page 70\n",
      "[!] No images found on page 71\n",
      "[!] No images found on page 72\n",
      "[!] No images found on page 73\n",
      "[+] Found a total of 1 images in page 74\n",
      "[+] Found a total of 1 images in page 75\n",
      "[+] Found a total of 1 images in page 76\n",
      "[!] No images found on page 77\n",
      "[+] Found a total of 1 images in page 78\n",
      "[+] Found a total of 1 images in page 79\n",
      "[!] No images found on page 80\n",
      "[+] Found a total of 1 images in page 81\n",
      "[+] Found a total of 1 images in page 82\n",
      "[!] No images found on page 83\n",
      "[!] No images found on page 84\n",
      "[!] No images found on page 85\n",
      "[!] No images found on page 86\n",
      "[!] No images found on page 87\n"
     ]
    }
   ],
   "source": [
    "# STEP 1\n",
    "# import libraries\n",
    "import fitz\n",
    "import io\n",
    "from PIL import Image\n",
    "\n",
    "# STEP 2\n",
    "# file path you want to extract images from\n",
    "file = \"Rapport safé.pdf\"\n",
    "\n",
    "# open the file\n",
    "pdf_file = fitz.open(file)\n",
    "\n",
    "# STEP 3\n",
    "# iterate over PDF pages\n",
    "for page_index in range(len(pdf_file)):\n",
    "\t\n",
    "\t# get the page itself\n",
    "\tpage = pdf_file[page_index]\n",
    "\timage_list = page.getImageList()\n",
    "    \n",
    "\t# printing number of images found in this page\n",
    "\tif image_list:\n",
    "\t\tprint(f\"[+] Found a total of {len(image_list)} images in page {page_index}\")\n",
    "\telse:\n",
    "\t\tprint(\"[!] No images found on page\", page_index)\n",
    "\tfor image_index, img in enumerate(page.getImageList(), start=1):\n",
    "\t\t\n",
    "\t\t# get the XREF of the image\n",
    "\t\txref = img[0]\n",
    "\t\t\n",
    "\t\t# extract the image bytes\n",
    "\t\tbase_image = pdf_file.extractImage(xref)\n",
    "\t\timage_bytes = base_image[\"image\"]\n",
    "\t\t\n",
    "\t\t# get the image extension\n",
    "\t\timage_ext = base_image[\"ext\"]\n"
   ]
  },
  {
   "cell_type": "code",
   "execution_count": 19,
   "metadata": {},
   "outputs": [
    {
     "name": "stdout",
     "output_type": "stream",
     "text": [
      "1 detected\n"
     ]
    }
   ],
   "source": [
    "#import the library\n",
    "import fitz\n",
    "\n",
    "file = 'Rapport safé.pdf'\n",
    "\n",
    "#open the fitz file\n",
    "pdf = fitz.open(file)\n",
    "\n",
    "#select the page number\n",
    "image_list = pdf.getPageImageList(0)\n",
    "\n",
    "#applying the loop\n",
    "for image in image_list:\n",
    "    xref = image[0]\n",
    "    pix = fitz.Pixmap(pdf, xref)\n",
    "    if pix.n < 5:\n",
    "        pix.writePNG(f'{xref}.png')\n",
    "    else:\n",
    "        pix1 = fitz.open(fitz.csRGB, pix)\n",
    "        pix1.writePNG(f'{xref}.png')\n",
    "        pix1 = None\n",
    "    pix = None\n",
    "\n",
    "#print the images\n",
    "print(len(image_list), 'detected')"
   ]
  },
  {
   "cell_type": "code",
   "execution_count": null,
   "metadata": {},
   "outputs": [],
   "source": []
  }
 ],
 "metadata": {
  "kernelspec": {
   "display_name": "Python 3",
   "language": "python",
   "name": "python3"
  },
  "language_info": {
   "codemirror_mode": {
    "name": "ipython",
    "version": 3
   },
   "file_extension": ".py",
   "mimetype": "text/x-python",
   "name": "python",
   "nbconvert_exporter": "python",
   "pygments_lexer": "ipython3",
   "version": "3.8.5"
  }
 },
 "nbformat": 4,
 "nbformat_minor": 4
}
